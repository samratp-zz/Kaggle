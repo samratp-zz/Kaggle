{
  "cells": [
    {
      "metadata": {
        "_uuid": "69b47aa70345901c7bfaaeed9387999aa264ba1e",
        "_cell_guid": "892ac5a4-fcab-4ac1-a5ae-c09e129be571"
      },
      "cell_type": "markdown",
      "source": "## Medical Appointment No Shows"
    },
    {
      "metadata": {
        "_uuid": "3c9a04062f2432280ac23215da3171c9228fd882",
        "_cell_guid": "dd0a9063-a8c6-4ebb-b430-656e785d951a"
      },
      "cell_type": "markdown",
      "source": "### 1. Load Libraries"
    },
    {
      "metadata": {
        "_uuid": "ebc9fc9fbc7ab5374070043fbb463c2e0668308e",
        "_cell_guid": "a175b3d0-fd13-4e20-8338-e86841b32dd2"
      },
      "cell_type": "markdown",
      "source": "Below we will load all the required libraries. Libraries for reading CSV File, Basic EDA, Visualization and Data Modeling are all loaded in the below cell."
    },
    {
      "metadata": {
        "_uuid": "ec05aee77d14bf234f2c96b5d5aed6653de6ed53",
        "_cell_guid": "b8fb50e3-b70f-4b2a-aa44-8f20f28d0cd9",
        "collapsed": true,
        "trusted": false
      },
      "cell_type": "code",
      "source": "import pandas as pd\nimport numpy as np\nimport datetime\nfrom time import strftime\n\nfrom sklearn.model_selection import train_test_split\nfrom sklearn.model_selection import GridSearchCV\nfrom sklearn.preprocessing import LabelEncoder\n\nfrom sklearn.tree import DecisionTreeClassifier\nfrom sklearn.ensemble import RandomForestClassifier\n\nimport matplotlib.pyplot as plt\n%matplotlib inline\n\nimport seaborn as sns",
      "execution_count": null,
      "outputs": []
    },
    {
      "metadata": {
        "_uuid": "ecd98fb2c44b301ac83b89457ac91eb9e5b045f3",
        "_cell_guid": "1e15ddbd-e4af-4a41-bdb6-5329ba5ebc7d",
        "collapsed": true,
        "trusted": false
      },
      "cell_type": "code",
      "source": "week_key = ['Monday','Tuesday','Wednesday','Thursday','Friday','Saturday','Sunday']",
      "execution_count": null,
      "outputs": []
    },
    {
      "metadata": {
        "_uuid": "a5fe68cb1e6ea49f9c19944284db0957d78c80aa",
        "_cell_guid": "10c277c5-d481-4a92-99d8-3033a72bee5b"
      },
      "cell_type": "markdown",
      "source": "### 2. Load Data"
    },
    {
      "metadata": {
        "_uuid": "baf98ee3fa4d53f371425af2545dfca5929784a3",
        "_cell_guid": "005a73a0-7ae9-464e-8293-b92bc070124d"
      },
      "cell_type": "markdown",
      "source": "In the below cell we will load the data from the CSV file in to a DataFrame. We will also check the row and column count by getting the shape of the data."
    },
    {
      "metadata": {
        "_uuid": "55d3dea093044917e98dbe4d24ad31b93b4e2058",
        "_cell_guid": "f76f8ca1-d204-467c-9bf4-f7738cd4f46c",
        "collapsed": true,
        "trusted": false
      },
      "cell_type": "code",
      "source": "df = pd.read_csv('../input/KaggleV2-May-2016.csv')",
      "execution_count": null,
      "outputs": []
    },
    {
      "metadata": {
        "_uuid": "a146ff9570a6d591e8f0415f304448472b3d8bfa",
        "_cell_guid": "c7c06bc2-9cc9-4310-bbc6-d61b043b5595",
        "collapsed": true,
        "trusted": false
      },
      "cell_type": "code",
      "source": "print(\"The shape of the DataFrame is => {}\".format(df.shape))",
      "execution_count": null,
      "outputs": []
    },
    {
      "metadata": {
        "_uuid": "b1baae34490c1bc879c41138d603869f7593d622",
        "_cell_guid": "c6b7d6c0-b6f8-43e1-b636-f9c053225559"
      },
      "cell_type": "markdown",
      "source": "### 3. Basic Info of the Data"
    },
    {
      "metadata": {
        "_uuid": "17f9d606d7106157c4bf7489b3e5575e52c9273e",
        "_cell_guid": "ec0bf87c-82fa-4e04-9a7a-0532d3b257a3"
      },
      "cell_type": "markdown",
      "source": "In the below cells we will see the basic information about the data that we had loaded in the previous step."
    },
    {
      "metadata": {
        "_uuid": "2a21cdfd00f1790449eb37bbaa72f98f684636ed",
        "_cell_guid": "1528d50d-b1bc-4b9e-bd74-25d929fb0727",
        "collapsed": true,
        "trusted": false
      },
      "cell_type": "code",
      "source": "df.info()",
      "execution_count": null,
      "outputs": []
    },
    {
      "metadata": {
        "_uuid": "b726ccb20f46f0e70cb71b897f6cec33ea10b462",
        "_cell_guid": "e713fbb0-f57c-4945-8cd2-4a0840ee3b1c"
      },
      "cell_type": "markdown",
      "source": "As can be seen above there are no NaN values in any of the columns."
    },
    {
      "metadata": {
        "_uuid": "8c4f5a78a99094384d5d528ed1bab747ca792bb0",
        "_cell_guid": "fffcf3a7-1d58-42fe-8949-88a582be6dd2",
        "scrolled": true,
        "collapsed": true,
        "trusted": false
      },
      "cell_type": "code",
      "source": "# Print the top 5 rows\ndf.head()",
      "execution_count": null,
      "outputs": []
    },
    {
      "metadata": {
        "_uuid": "966f16a26611c19bc5991e92f4c1e1bf0e1a114a",
        "_cell_guid": "34089150-4520-4b23-a3e3-42b12afa31e2"
      },
      "cell_type": "markdown",
      "source": "### 4. Correct Incosistencies in Data"
    },
    {
      "metadata": {
        "_uuid": "5668b87e72e707ef8440971bdee14d72206a1a6e",
        "_cell_guid": "4252c3d4-89f3-45b0-bfac-b28e3dab81b6"
      },
      "cell_type": "markdown",
      "source": "Below we will correct some of the inconsistencies in the data:\n\n1. PatientId is an Integer and not Float. So, we will convert it into int64.\n2. Data Type of ScheduledDay and AppointmentDay will be changed to DateTime.\n3. Typo's in the Column names will be corrected\n4. As the AppointmentDay has 00:00:00 in it's TimeStamp, we will ignore it.\n5. As we removed the Time from AppointmentDay's TimeStamp we will do a similar thing for ScheduledDay also. (Ideally the Time in AppointmentDay column will help us better rather than in the ScheduledDay)"
    },
    {
      "metadata": {
        "_uuid": "b4b196da0e83d875d3ec4a1601ec6887c6fa11e1",
        "_cell_guid": "49fe1234-426e-46bd-8926-6d6b080b4c89",
        "collapsed": true,
        "trusted": false
      },
      "cell_type": "code",
      "source": "# Convert PatientId from Float to Integer\ndf['PatientId'] = df['PatientId'].astype('int64')\n\n# Convert ScheduledDay and AppointmentDay from 'object' type to 'datetime64[ns]'\ndf['ScheduledDay'] = pd.to_datetime(df['ScheduledDay']).dt.date.astype('datetime64[ns]')\ndf['AppointmentDay'] = pd.to_datetime(df['AppointmentDay']).dt.date.astype('datetime64[ns]')\n\n# Rename incorrect column names.\ndf = df.rename(columns={'Hipertension': 'Hypertension', 'Handcap': 'Handicap', 'SMS_received': 'SMSReceived', 'No-show': 'NoShow'})",
      "execution_count": null,
      "outputs": []
    },
    {
      "metadata": {
        "_uuid": "1a8a5276b9ca9f9995e7c0f4a379a87b5b7f8d17",
        "_cell_guid": "e0f64a3f-6944-4c32-ad55-921cd9972cd5",
        "collapsed": true,
        "trusted": false
      },
      "cell_type": "code",
      "source": "df.info()",
      "execution_count": null,
      "outputs": []
    },
    {
      "metadata": {
        "_uuid": "8bf54e3eae7782d16df4519c37b08facbb058587",
        "_cell_guid": "c4c12972-d3f1-4654-a31c-9e4fd2d0588e",
        "collapsed": true,
        "trusted": false
      },
      "cell_type": "code",
      "source": "df.head()",
      "execution_count": null,
      "outputs": []
    },
    {
      "metadata": {
        "_uuid": "a2736f68d2e24903fd463eab741a657e1312b8ee",
        "_cell_guid": "6a9283ee-7ad3-4bdf-9321-4d96e02b1184"
      },
      "cell_type": "markdown",
      "source": "### 5. Data Wrangling, Feature Engineering and EDA"
    },
    {
      "metadata": {
        "_uuid": "3d89ec992efb47b4bc9895cd4143597d5108e001",
        "_cell_guid": "83fca210-81b7-4dc5-a74b-156d17dccbe7",
        "collapsed": true,
        "trusted": false
      },
      "cell_type": "code",
      "source": "print(\"Features in the DataFrame => {}\".format(df.columns.ravel()))",
      "execution_count": null,
      "outputs": []
    },
    {
      "metadata": {
        "_uuid": "2592a7aa0640a2179b25db34f0a1882050c3a55d",
        "_cell_guid": "3fb1b17d-3792-474c-90ac-379e3a992c07"
      },
      "cell_type": "markdown",
      "source": "From the above Info of the DataFrame and the sample data we can see that there are 14 columns in total.\n\n - There are 13 Independent Variables -> ['PatientId' 'AppointmentID' 'Gender' 'ScheduledDay' 'AppointmentDay' 'Age' 'Neighbourhood' 'Scholarship' 'Hypertension' 'Diabetes' 'Alcoholism' 'Handicap' 'SMSReceived']\n - The Dependent Variable is -> ['NoShow']"
    },
    {
      "metadata": {
        "_uuid": "c9bb78375b095090f0109f4a9acbffa9c288996c",
        "_cell_guid": "44f8d472-8224-4710-92b4-ca1e51797b92"
      },
      "cell_type": "markdown",
      "source": "Below, we will drop 'PatientId' and 'AppointmentID' from the dataframe as they are just some system genrated numbers and shouldn't be used for predicting the dependent variable."
    },
    {
      "metadata": {
        "_uuid": "4565123518ee58aa788164f83bea4940a8190805",
        "_cell_guid": "69dd6e6f-d1a3-48cc-98d6-994c2fba697e",
        "collapsed": true,
        "trusted": false
      },
      "cell_type": "code",
      "source": "# Drop 'PatientId' and 'AppointmentID' as they are just some system genrated numbers.\ndf.drop(['PatientId', 'AppointmentID'], axis=1, inplace=True)",
      "execution_count": null,
      "outputs": []
    },
    {
      "metadata": {
        "_uuid": "0cec5986ed4b1cf5d88f33f784b41509b2d20593",
        "_cell_guid": "ffcd82c9-4359-4586-a992-4dfba7acf43a",
        "collapsed": true,
        "trusted": false
      },
      "cell_type": "code",
      "source": "# Print Unique Values\nprint(\"Unique Values in `Gender` => {}\".format(df.Gender.unique()))\nprint(\"Unique Values in `Scholarship` => {}\".format(df.Scholarship.unique()))\nprint(\"Unique Values in `Hypertension` => {}\".format(df.Hypertension.unique()))\nprint(\"Unique Values in `Diabetes` => {}\".format(df.Diabetes.unique()))\nprint(\"Unique Values in `Alcoholism` => {}\".format(df.Alcoholism.unique()))\nprint(\"Unique Values in `Handicap` => {}\".format(df.Handicap.unique()))\nprint(\"Unique Values in `SMSReceived` => {}\".format(df.SMSReceived.unique()))",
      "execution_count": null,
      "outputs": []
    },
    {
      "metadata": {
        "_uuid": "1771bda3e41886d91ce5a83ffa14933777c04fdd",
        "_cell_guid": "f800d461-2f66-4137-bea5-a388606fa552"
      },
      "cell_type": "markdown",
      "source": "From the above detail we can see that except for `Handicap` which has four values and `Gender` which has 'M' and 'F' all the other features have 'Yes' or 'No' kind of values. So, we will convert those columns to `'object'` type."
    },
    {
      "metadata": {
        "_uuid": "ea9da2de820ada5be8a2547e70c890c82606ca3e",
        "_cell_guid": "2dfe26f3-5823-4df1-ab72-00479d0e80f0",
        "collapsed": true,
        "trusted": false
      },
      "cell_type": "code",
      "source": "df['Scholarship'] = df['Scholarship'].astype('object')\ndf['Hypertension'] = df['Hypertension'].astype('object')\ndf['Diabetes'] = df['Diabetes'].astype('object')\ndf['Alcoholism'] = df['Alcoholism'].astype('object')\ndf['Handicap'] = df['Handicap'].astype('object')\ndf['SMSReceived'] = df['SMSReceived'].astype('object')",
      "execution_count": null,
      "outputs": []
    },
    {
      "metadata": {
        "_uuid": "99d6cb22b5586be42f7531d8b6ba26e59349701b",
        "_cell_guid": "a79c7724-ada9-41dd-ac1f-870b5dd605b2",
        "collapsed": true,
        "trusted": false
      },
      "cell_type": "code",
      "source": "df.info()",
      "execution_count": null,
      "outputs": []
    },
    {
      "metadata": {
        "_uuid": "7d407b443017dacb5261ed06633d3af9a1f875a4",
        "_cell_guid": "443c0777-3c7b-4a37-88b8-acc194491749",
        "collapsed": true,
        "trusted": false
      },
      "cell_type": "code",
      "source": "# Print some sample data\ndf.sample(n=5)",
      "execution_count": null,
      "outputs": []
    },
    {
      "metadata": {
        "_uuid": "35b13ca767eef9ee8441ffd1f50d3e4abb99610e",
        "_cell_guid": "905a351f-6144-4aff-a75a-65e6a54693bf",
        "collapsed": true,
        "trusted": false
      },
      "cell_type": "code",
      "source": "# Print Unique Values for 'Age'\nprint(\"Unique Values in `Age` => {}\".format(np.sort(df.Age.unique())))",
      "execution_count": null,
      "outputs": []
    },
    {
      "metadata": {
        "_uuid": "90ba927c57bcf3d07c004643c6eec57fc02eab89",
        "_cell_guid": "6b8ffd2d-c175-4156-965d-1f3166c9108a"
      },
      "cell_type": "markdown",
      "source": "In the below code we will check few details about the patients with `Age` `0` and `-1`."
    },
    {
      "metadata": {
        "_uuid": "efd5d78e5ca8341e5f45ac8a35fb6ed872a0995c",
        "_cell_guid": "4bb57b7e-3191-48cf-81bb-579d69fa134c",
        "collapsed": true,
        "trusted": false
      },
      "cell_type": "code",
      "source": "print(\"Patients with `Age` less than -1 -> {}\".format(df[df.Age == -1].shape[0]))\nprint(\"Patients with `Age` equal to 0 -> {}\".format(df[df.Age == 0].shape[0]))",
      "execution_count": null,
      "outputs": []
    },
    {
      "metadata": {
        "_uuid": "efa85fffa0e002ddb98e21837aa89d724261b272",
        "_cell_guid": "3e488633-69af-4d8b-bb23-d3c4e656f452"
      },
      "cell_type": "markdown",
      "source": "As there is only 1 patient with `Age` less than 0 we will delete that record assuming that they was a typo."
    },
    {
      "metadata": {
        "_uuid": "1092cbba47b536ae26f5801807a37a46b37f6c33",
        "_cell_guid": "4a480734-e53b-43ed-8f0c-f00f8085b1fe",
        "collapsed": true,
        "trusted": false
      },
      "cell_type": "code",
      "source": "df = df[df.Age >= 0]",
      "execution_count": null,
      "outputs": []
    },
    {
      "metadata": {
        "_uuid": "75c5760d0e81fed560119fb22eb623aa8a9175c2",
        "_cell_guid": "e1866faa-5565-4ef3-a319-ead4deeacfbf"
      },
      "cell_type": "markdown",
      "source": "As we have 3539 patients with `Age` equal to 0 we are assuming that these are the small babies with few months of Age. Usually as babies doesn't have `Hypertension` or `Diabetes` or `Alcoholism` we will check these features for the above records to see if our assumption is correct."
    },
    {
      "metadata": {
        "_uuid": "ec5fe0519be5b181d010f7c017235af8f95d6f14",
        "_cell_guid": "ec991ca0-ddf1-409e-ad4d-5db684432fdb",
        "collapsed": true,
        "trusted": false
      },
      "cell_type": "code",
      "source": "df[(df.Age <= 0) & ((df.Hypertension.astype(int) == 1) | (df.Diabetes.astype(int) == 1) | (df.Alcoholism.astype(int) == 1))]",
      "execution_count": null,
      "outputs": []
    },
    {
      "metadata": {
        "_uuid": "e22c9caf78c462758c30c1c4c641ffb23d2f76e4",
        "_cell_guid": "7150c021-c20a-4ad0-ad33-0a84ac17dd96"
      },
      "cell_type": "markdown",
      "source": "As we have no records above, we will confirm our conclusion that `Age` value of 0 indeed represents babies who are just few months old."
    },
    {
      "metadata": {
        "_uuid": "2000addf504bac57b561ba408add6645bfbfa9e8",
        "_cell_guid": "fb37b79e-b8d6-4567-b559-1ced8438ce30",
        "collapsed": true,
        "trusted": false
      },
      "cell_type": "code",
      "source": "# Print Unique Values for 'ScheduledDay'\nprint(\"Unique Values in `ScheduledDay` => {}\".format(np.sort(df.ScheduledDay.dt.strftime('%Y-%m-%d').unique())))",
      "execution_count": null,
      "outputs": []
    },
    {
      "metadata": {
        "_uuid": "25967432e17993c8010a8bdafebfa74eb70b4ae5",
        "_cell_guid": "112b4597-9a77-495a-b07d-7c1f1bdc1efc"
      },
      "cell_type": "markdown",
      "source": "We can see from the above details that the `ScheduledDay` for appointments are ranging from **2015-11-10** to **2016-06-08** and that's around 7 months of data."
    },
    {
      "metadata": {
        "_uuid": "1123496123477d0014457e76f67dec7f6a123451",
        "_cell_guid": "8128a416-ba6c-40dd-accb-91be6a03a17f",
        "collapsed": true,
        "trusted": false
      },
      "cell_type": "code",
      "source": "# Print Unique Values for 'AppointmentDay'\nprint(\"Unique Values in `AppointmentDay` => {}\".format(np.sort(df.AppointmentDay.dt.strftime('%Y-%m-%d').unique())))",
      "execution_count": null,
      "outputs": []
    },
    {
      "metadata": {
        "_uuid": "df596aaa4757c1cd56ac61b63ce8ab668f7e063c",
        "_cell_guid": "af4e1fd5-bb00-42f8-92c3-5f19fef13f18"
      },
      "cell_type": "markdown",
      "source": "From the above detail we can see that `AppointmentDay` ranges from **2016-04-29** to **2016-06-08**. The `AppointmentDay` spans just above 1 Month in contrast to the `ScheduledDay` that spans around 7 Months."
    },
    {
      "metadata": {
        "_uuid": "7609e6f2c6bc4a2d6bf43ed288df43b6652b1ff6",
        "_cell_guid": "21f1bfb9-ebeb-407c-b8a8-9a8d2529c8f4",
        "collapsed": true,
        "trusted": false
      },
      "cell_type": "code",
      "source": "# Print Unique Values for 'Neighbourhood'\nprint(\"Unique Values in `Neighbourhood` => {}\".format(np.sort(df.Neighbourhood.unique())))",
      "execution_count": null,
      "outputs": []
    },
    {
      "metadata": {
        "_uuid": "acb259fa3d847b864fea722428a3f8a2b8a69548",
        "_cell_guid": "36581f7e-742b-4684-b630-8e5c43de6d84",
        "collapsed": true,
        "trusted": false
      },
      "cell_type": "code",
      "source": "# Print Total Count for 'Neighbourhood'\nprint(\"Total Count for `Neighbourhood` => {}\".format(df.Neighbourhood.unique().size))",
      "execution_count": null,
      "outputs": []
    },
    {
      "metadata": {
        "_uuid": "94db39442a08a8f2743458b95dcd1dac67905e6e",
        "_cell_guid": "c3719685-9bca-4253-890d-237469a46b49"
      },
      "cell_type": "markdown",
      "source": "Get Day of the Week for `ScheduledDay` and `AppointmentDay` to see if there are many 'NoShows' over the weekends.\nWeek for `ScheduledDay` and `AppointmentDay` also helps us to see if there is a particular pattern where most patients are coming for a visit."
    },
    {
      "metadata": {
        "_uuid": "4f192d70685d0fc8ff2ecf915caef7000be67f97",
        "_cell_guid": "1b908b11-98ae-4035-8fff-f5c2b63ea08c",
        "collapsed": true,
        "trusted": false
      },
      "cell_type": "code",
      "source": "# Get Day of the Week for ScheduledDay and AppointmentDay\ndf['ScheduledDay_DOW'] = df['ScheduledDay'].dt.weekday_name\ndf['AppointmentDay_DOW'] = df['AppointmentDay'].dt.weekday_name",
      "execution_count": null,
      "outputs": []
    },
    {
      "metadata": {
        "_uuid": "b0861845ee3ec792c641f915abfadf97bcb7f41a",
        "_cell_guid": "5105b1f0-75dd-432f-9e26-9ad31c61ee71"
      },
      "cell_type": "markdown",
      "source": "Ideally the `AppointmentDay` should be on or after the `ScheduledDay`. Below we will check if there are any records where there is an inconsistency. In case if the `ScheduledDay` is after the `AppointmentDay` we will consider it as an error and correct the `ScheduledDay` to the `AppointmentDay`."
    },
    {
      "metadata": {
        "_uuid": "75b38136057197c3a2a21c6d88e25e5feaf05c88",
        "_cell_guid": "6e819974-3870-4816-bd4b-53f97375ecad",
        "collapsed": true,
        "trusted": false
      },
      "cell_type": "code",
      "source": "df['AppointmentDay'] = np.where((df['AppointmentDay'] - df['ScheduledDay']).dt.days < 0, df['ScheduledDay'], df['AppointmentDay'])\n\n# Get the Waiting Time in Days of the Patients.\ndf['Waiting_Time_days'] = df['AppointmentDay'] - df['ScheduledDay']\ndf['Waiting_Time_days'] = df['Waiting_Time_days'].dt.days",
      "execution_count": null,
      "outputs": []
    },
    {
      "metadata": {
        "_uuid": "79e0193de6687fae5d655ca61d8987d14fa39937",
        "_cell_guid": "223fd829-4c3b-475c-b3af-e982f15bc6a5",
        "collapsed": true,
        "trusted": false
      },
      "cell_type": "code",
      "source": "# Sanity check to see if the Waiting Time is less than Zero for any of the data points.\nprint(\"There are [{}] records where the Waiting Time is less than Zero.\".format(df[df.Waiting_Time_days < 0].shape[0]))",
      "execution_count": null,
      "outputs": []
    },
    {
      "metadata": {
        "_uuid": "158277c1effef21858e9605fbcf9c2e9981dc811",
        "_cell_guid": "cc1e35e5-3c68-48dc-a35f-75f26ecb35af",
        "collapsed": true,
        "trusted": false
      },
      "cell_type": "code",
      "source": "df.info()",
      "execution_count": null,
      "outputs": []
    },
    {
      "metadata": {
        "_uuid": "071217fb0cce59341c814a220bb8f810d5fe4d2d",
        "_cell_guid": "2938cc57-1f58-4868-b1e0-33ddf8eb9afa",
        "collapsed": true,
        "trusted": false
      },
      "cell_type": "code",
      "source": "df.sample(n=10)",
      "execution_count": null,
      "outputs": []
    },
    {
      "metadata": {
        "_uuid": "b0850f04c215fa6e9f02339c6414a75880d8286b",
        "_cell_guid": "de42b31b-1c4d-496a-bd2f-081ae4c5e49c",
        "collapsed": true,
        "trusted": false
      },
      "cell_type": "code",
      "source": "print(\"NoShow and Show Count of Patients\\n\")\nprint(df.groupby(['NoShow']).size())\n\nprint(\"\\nNoShow and Show '%' of Patients\\n\")\nshow = df.groupby(['NoShow']).size()[0]/(df.groupby(['NoShow']).size()[0]+df.groupby(['NoShow']).size()[1])\nprint(\"Percent of Patients who `Showed Up` => {:.2f}%\".format(show*100))\nnoshow = df.groupby(['NoShow']).size()[1]/(df.groupby(['NoShow']).size()[0]+df.groupby(['NoShow']).size()[1])\nprint(\"Percent of Patients who Did `Not Showed Up` => {:.2f}%\".format(noshow*100))",
      "execution_count": null,
      "outputs": []
    },
    {
      "metadata": {
        "_uuid": "93ca22e17921a6ce3d35e871cb6f48f9a9b250f2",
        "_cell_guid": "e9a33017-8a56-4712-8e83-dd51496ef455"
      },
      "cell_type": "markdown",
      "source": "From the above information we can see that there is clearly a class imbalance. Around 80% of the patients are coming for the visit after an appointment and around 20% are skipping their appointments."
    },
    {
      "metadata": {
        "_uuid": "9fc1d444aa10b59af7d5c8039f6c6547065f63c4",
        "_cell_guid": "34fbbd92-3848-4788-99df-079fc20550c2",
        "collapsed": true
      },
      "cell_type": "markdown",
      "source": "### 5. Data Visualization"
    },
    {
      "metadata": {
        "_uuid": "5a7fb32088fd1604ae111c61e39cdf7c0737c968",
        "_cell_guid": "287b0d4a-d0ea-4896-8138-b5dc9e3cd6b7"
      },
      "cell_type": "markdown",
      "source": "#### 5.0 Show/NoShow"
    },
    {
      "metadata": {
        "_uuid": "e1612f75734b3bdeb28ff863a7c7f5f8d48d0b1f",
        "_cell_guid": "66f38753-a467-4bc7-89fd-285cc944561d"
      },
      "cell_type": "markdown",
      "source": "Below we can see that out of 110,500 patients around 88,000 of them have turned up and that's around 80%."
    },
    {
      "metadata": {
        "_uuid": "a0c0763356d9c95f6c3d3f8bd4583f6d3a1e8811",
        "_cell_guid": "6267a29c-c07a-4edd-ae43-5475019ccd25",
        "collapsed": true,
        "trusted": false
      },
      "cell_type": "code",
      "source": "ax = sns.countplot(x=df.NoShow, data=df)\nax.set_title(\"Show/NoShow Patients\")\nplt.show()",
      "execution_count": null,
      "outputs": []
    },
    {
      "metadata": {
        "_uuid": "c570e17e73c6f1f3431320b468a2374dc1e1b19e",
        "_cell_guid": "de5faf2a-acb9-446e-a6a2-7d9697063b71"
      },
      "cell_type": "markdown",
      "source": "#### 5.1 Gender"
    },
    {
      "metadata": {
        "_uuid": "4ee58d017abe2b7205693048a2e538038988ded2",
        "_cell_guid": "0897d676-ac40-46d7-b4a1-1f986e51ba33"
      },
      "cell_type": "markdown",
      "source": "- Below we can see that out of the 88,000 patients that have turned up, around 57,000 of them are Females and 31,000 are Males.\n- Of the 22,500 patients that haven't come for the visit around 15,000 are Females and 7,500 are Males\n- The ratio of Females to Males that have turned up looks simiar to those who haven't come for a visit."
    },
    {
      "metadata": {
        "_uuid": "82e295e4483eb086269ec8854cc16f5790b8ce98",
        "_cell_guid": "830a6459-e9e6-4dae-acf7-cca6f25689d9",
        "collapsed": true,
        "trusted": false
      },
      "cell_type": "code",
      "source": "ax = sns.countplot(x=df.Gender, hue=df.NoShow, data=df)\nax.set_title(\"Show/NoShow for Females and Males\")\nx_ticks_labels=['Female', 'Male']\nax.set_xticklabels(x_ticks_labels)\nplt.show()",
      "execution_count": null,
      "outputs": []
    },
    {
      "metadata": {
        "_uuid": "e1b750c4a3d796c8570793bffc5a9ef28a71f7b0",
        "_cell_guid": "fdeb846f-2a88-4863-accb-659c059b144c"
      },
      "cell_type": "markdown",
      "source": "From the above visualization we can clearly see that 'Female' patients usually have more appointments that 'Male' patients. So, **Gender** might be an important factor. But if we closely look at the NoShow distribution across Male's and Female's it is almost the same. So, **Gender** may not play an important role in determining if a patient comes for a visit or not."
    },
    {
      "metadata": {
        "_uuid": "f79f7b1233bd62ad606e609a8a550552ff7468b7",
        "_cell_guid": "adae9c9b-b8cd-44a5-91d7-e44bb9286e2f"
      },
      "cell_type": "markdown",
      "source": "#### 5.2 Age"
    },
    {
      "metadata": {
        "_uuid": "c7eee2d97e559414ef0897e880cc7ad587f2c5d1",
        "_cell_guid": "864e0ead-af91-4a47-95c8-20fb8f03545f"
      },
      "cell_type": "markdown",
      "source": "We will draw a boxplot for the `Age` feature to check it's distribution."
    },
    {
      "metadata": {
        "_uuid": "4a79ada431c73fea0ac8c0d1d3bf14b180d3d298",
        "_cell_guid": "ec403e3c-2c17-44df-992f-e9157d0e03f3",
        "collapsed": true,
        "trusted": false
      },
      "cell_type": "code",
      "source": "plt.figure(figsize=(16,2))\nplt.xticks(rotation=90)\n_ = sns.boxplot(x=df.Age)",
      "execution_count": null,
      "outputs": []
    },
    {
      "metadata": {
        "_uuid": "f0acd4b9295b726669617028fd0011d93bf6ae10",
        "_cell_guid": "92a2f5fa-bc74-49dc-8c08-3896e1838949"
      },
      "cell_type": "markdown",
      "source": "From the above `BoxPlot` we can see that the Median Age is around 30 and the IQR is between 18 and 55.\nThough the BoxPlot shows few datapoints as outliers we will not consider them as true outliers for this case."
    },
    {
      "metadata": {
        "_uuid": "2726d6f0d693d30e7631c384337b05d665a3bb2f",
        "_cell_guid": "227cf3bf-2741-49a4-b01d-d2646a7fc454"
      },
      "cell_type": "markdown",
      "source": "Below we will plot the number of patients for different Age."
    },
    {
      "metadata": {
        "_uuid": "9640a6ad7b056c08917e262f6fbdb03d9ac52857",
        "_cell_guid": "af787883-6e09-4cf2-8482-0823c66b1a62",
        "collapsed": true,
        "trusted": false
      },
      "cell_type": "code",
      "source": "plt.figure(figsize=(16,4))\nplt.xticks(rotation=90)\nax = sns.countplot(x=df.Age)\nax.set_title(\"No of Appointments by Age\")\nplt.show()",
      "execution_count": null,
      "outputs": []
    },
    {
      "metadata": {
        "_uuid": "a17936af664a9a43ac018dd76a399159d3d61072",
        "_cell_guid": "515d492e-5d2e-446d-93f7-01506f60cc78"
      },
      "cell_type": "markdown",
      "source": "From the above Histogram we can see that there are peaks for the Infants and then the distribution starts to be uniform. Later, after the Age of around 60 we see a right-skewed distribution."
    },
    {
      "metadata": {
        "_uuid": "7c6fed98e4775ce5ae199fb5c8a614123d413b4f",
        "_cell_guid": "dc6db88b-0bd6-4837-91ee-3b48c8d0a1ac"
      },
      "cell_type": "markdown",
      "source": "Below we will plot the Show/NoShow for the patients based on their Age."
    },
    {
      "metadata": {
        "_uuid": "5adc1c5b2344144f825e86a7011ea58015c17ded",
        "_cell_guid": "ba073ecd-b2d0-46b7-8b02-7625a0479fc9",
        "collapsed": true,
        "trusted": false
      },
      "cell_type": "code",
      "source": "plt.figure(figsize=(16,4))\nplt.xticks(rotation=90)\nax = sns.countplot(x=df.Age, hue=df.NoShow)\nax.set_title(\"Show/NoShow of Appointments by Age\")\nplt.show()",
      "execution_count": null,
      "outputs": []
    },
    {
      "metadata": {
        "_uuid": "e33b50a5c98e9e2dec75b9c2a7bfc7de76ca1fe1",
        "_cell_guid": "3d0b78a8-8641-4325-a38d-ec9542cf1834"
      },
      "cell_type": "markdown",
      "source": "From the above visualization looks like the ratio of Show to NoShow is almost the same for all Age's except for 'Age 0' and 'Age 1'. We will get a better clarity on the ratio of Show to NoShow for all Age's."
    },
    {
      "metadata": {
        "_uuid": "27024870680a2e9df6d9a3b263a24c6df63f4bc8",
        "_cell_guid": "a18064ac-fe44-40da-8ebf-a44fbaf2601a",
        "collapsed": true,
        "trusted": false
      },
      "cell_type": "code",
      "source": "df_age_ratio = df[df.NoShow == 'No'].groupby(['Age']).size()/df.groupby(['Age']).size()",
      "execution_count": null,
      "outputs": []
    },
    {
      "metadata": {
        "_uuid": "b7140e03d2886c3986b274805e26abdd40b7a943",
        "_cell_guid": "46978b10-0a0c-421b-b4ce-3ac5001763ea",
        "collapsed": true,
        "trusted": false
      },
      "cell_type": "code",
      "source": "plt.figure(figsize=(16,4))\nplt.xticks(rotation=90)\nax = sns.barplot(x=df_age_ratio.index, y=df_age_ratio)\nax.set_title(\"Percentage of Patients that Showed Up by Age\")\nplt.show()",
      "execution_count": null,
      "outputs": []
    },
    {
      "metadata": {
        "_uuid": "63af7ce8c8539b1574868cdcf4367499844f0cbb",
        "_cell_guid": "39b15bce-ebc3-4253-9a4a-5fefe46ad0e9",
        "collapsed": true,
        "trusted": false
      },
      "cell_type": "code",
      "source": "plt.figure(figsize=(16,4))\nplt.xticks(rotation=90)\nax = plt.hist(df_age_ratio)\nplt.title(\"Distribution of Percentage Show Up by Age\")\nplt.show()",
      "execution_count": null,
      "outputs": []
    },
    {
      "metadata": {
        "_uuid": "987aa9f3d0996a27f9347d1ee6ca317636c76a3b",
        "_cell_guid": "8b71a61a-ff89-47c8-877a-795f7dcce279"
      },
      "cell_type": "markdown",
      "source": "From the above visualization we could clearly see that most of the Age group patients have around 80% Show rate."
    },
    {
      "metadata": {
        "_uuid": "bd6413dfa1744ba8ff68d56d88148713313817ae",
        "_cell_guid": "1dd22d22-ccaa-4dcb-b9a0-a37b4bb5bc48"
      },
      "cell_type": "markdown",
      "source": "#### 5.3 Neighbourhood"
    },
    {
      "metadata": {
        "_uuid": "9e9b9c805ccf2ad82120ea4335907d9ef9cfdb93",
        "_cell_guid": "1f612127-c1e9-45da-a03e-8fdce0374e8d"
      },
      "cell_type": "markdown",
      "source": "Below we will see the patients count for each Neighbourhood."
    },
    {
      "metadata": {
        "_uuid": "99cd0e5373229ce85df213c5df5cdb89632e921e",
        "_cell_guid": "9f048720-6c57-4149-aa97-7764b3a6ba3a",
        "collapsed": true,
        "trusted": false
      },
      "cell_type": "code",
      "source": "plt.figure(figsize=(16,4))\nplt.xticks(rotation=90)\nax = sns.countplot(x=np.sort(df.Neighbourhood))\nax.set_title(\"No of Appointments by Neighbourhood\")\nplt.show()",
      "execution_count": null,
      "outputs": []
    },
    {
      "metadata": {
        "_uuid": "09e1a308232b9972c13374738ed09832b8d11788",
        "_cell_guid": "bfb8ec8b-e435-4deb-870c-eb345efc1ae3"
      },
      "cell_type": "markdown",
      "source": "From the above visualization we can see that the number of patients for few Neighbourhood's is very high."
    },
    {
      "metadata": {
        "_uuid": "214a3f720826778e84c8f1e4ad48531b6d6f84b9",
        "_cell_guid": "72e14b69-4df9-44fc-8b6e-88c827497f8e",
        "collapsed": true,
        "trusted": false
      },
      "cell_type": "code",
      "source": "plt.figure(figsize=(16,4))\nplt.xticks(rotation=90)\nax = sns.countplot(x=np.sort(df.Neighbourhood), hue=df.NoShow, order=df.Neighbourhood.value_counts().index)\nax.set_title(\"Show/NoShow by Neighbourhood\")\nplt.show()",
      "execution_count": null,
      "outputs": []
    },
    {
      "metadata": {
        "_uuid": "29cd0addc4cc665ac240387645c476c3ac6a4596",
        "_cell_guid": "f1ed8c5a-2b22-4a8a-9c85-8710cf6e2e71"
      },
      "cell_type": "markdown",
      "source": "From the above visualization looks like the ratio of Show to NoShow is almost the same for all Neighbourhood's. We will get a better clarity on the ratio of Show to NoShow for all Neighbourhood's in the below visualization."
    },
    {
      "metadata": {
        "_uuid": "eac4e3d2a6824ef3d8f72e224e4e3c367789592d",
        "_cell_guid": "44bab3ac-2098-4af0-bfb2-422d3a47dc68",
        "collapsed": true,
        "trusted": false
      },
      "cell_type": "code",
      "source": "df_n_ratio = df[df.NoShow == 'No'].groupby(['Neighbourhood']).size()/df.groupby(['Neighbourhood']).size()",
      "execution_count": null,
      "outputs": []
    },
    {
      "metadata": {
        "_uuid": "d07461134d182be402e430b96f6035b2d242f535",
        "_cell_guid": "70681eba-814a-4c1e-8c4c-214af788a18d",
        "collapsed": true,
        "trusted": false
      },
      "cell_type": "code",
      "source": "plt.figure(figsize=(16,4))\nplt.xticks(rotation=90)\nax = sns.barplot(x=df_n_ratio.index, y=df_n_ratio)\nax.set_title(\"Percetage Show Up of Patients by Neighbourhood\")\nplt.show()",
      "execution_count": null,
      "outputs": []
    },
    {
      "metadata": {
        "_uuid": "7125f499c864f84b1e4060a945bc1b07fd38ba86",
        "_cell_guid": "e560c9a9-4d84-4d2c-9b96-38024d1eca9c"
      },
      "cell_type": "markdown",
      "source": "As most of the Neighbourhood have around 80% Show rate, this feature may not add much value while building a model to help us determine which segment of patients are tuning up for a visit the most."
    },
    {
      "metadata": {
        "_uuid": "0f709248ae7b40a85aac499a4b4e0b7da239433d",
        "_cell_guid": "6628c8be-e205-48e4-806c-6383dc97736e"
      },
      "cell_type": "markdown",
      "source": "#### 5.4 Scholarship"
    },
    {
      "metadata": {
        "_uuid": "561d355fafc97f1b85952214b191f7a90748c1f2",
        "_cell_guid": "877fcae4-2d1f-4c83-b71b-7cf1fba8034f",
        "collapsed": true,
        "trusted": false
      },
      "cell_type": "code",
      "source": "ax = sns.countplot(x=df.Scholarship, hue=df.NoShow, data=df)\nax.set_title(\"Show/NoShow for Scholarship\")\nx_ticks_labels=['No Scholarship', 'Scholarship']\nax.set_xticklabels(x_ticks_labels)\nplt.show()",
      "execution_count": null,
      "outputs": []
    },
    {
      "metadata": {
        "_uuid": "6a64b21b24cff217e08e0342fe3f1a181173f311",
        "_cell_guid": "5d24ef67-0c28-42e3-a011-e1956987f57f",
        "collapsed": true,
        "trusted": false
      },
      "cell_type": "code",
      "source": "df_s_ratio = df[df.NoShow == 'No'].groupby(['Scholarship']).size()/df.groupby(['Scholarship']).size()\nax = sns.barplot(x=df_s_ratio.index, y=df_s_ratio, palette=\"RdBu_r\")\nax.set_title(\"Show Percentage for Scholarship\")\nx_ticks_labels=['No Scholarship', 'Scholarship']\nax.set_xticklabels(x_ticks_labels)\nplt.show()",
      "execution_count": null,
      "outputs": []
    },
    {
      "metadata": {
        "_uuid": "6adaf69e7d5560aac4210c2dd575f2b1828c0aaa",
        "_cell_guid": "beaee6a4-cdc2-4ac3-b4d0-19a8ff75e9b0"
      },
      "cell_type": "markdown",
      "source": "- From the above visualization we can see that there are around 100,000 patients without Scholarship and out of them around 80% have come for the visit.\n- Out of the 10,500 patients with Scholarship around 75% of them have come for the visit.\n\nSo, Scholarship feature could help us in determining if a patient will turn up for the visit after an appointment."
    },
    {
      "metadata": {
        "_uuid": "44558a3608f278bdab9304f73bbd7b3afbba666c",
        "_cell_guid": "78c941e7-7f22-42b2-b648-99aeba8e3beb"
      },
      "cell_type": "markdown",
      "source": "#### 5.5 Hypertension"
    },
    {
      "metadata": {
        "_uuid": "69b1678804cbbc038adba084ab54c18b319f8dd0",
        "_cell_guid": "fcf14c20-aafc-40b6-888b-f88a31ce2ef7",
        "collapsed": true,
        "trusted": false
      },
      "cell_type": "code",
      "source": "ax = sns.countplot(x=df.Hypertension, hue=df.NoShow, data=df)\nax.set_title(\"Show/NoShow for Hypertension\")\nx_ticks_labels=['No Hypertension', 'Hypertension']\nax.set_xticklabels(x_ticks_labels)\nplt.show()",
      "execution_count": null,
      "outputs": []
    },
    {
      "metadata": {
        "_uuid": "525369db3c4e0d70a780a5909c37389f82cb282f",
        "_cell_guid": "27529aab-06a6-4ce4-ad29-4fcabf327043",
        "collapsed": true,
        "trusted": false
      },
      "cell_type": "code",
      "source": "df_h_ratio = df[df.NoShow == 'No'].groupby(['Hypertension']).size()/df.groupby(['Hypertension']).size()\nax = sns.barplot(x=df_h_ratio.index, y=df_h_ratio, palette=\"RdBu_r\")\nax.set_title(\"Show Percentage for Hypertension\")\nx_ticks_labels=['No Hypertension', 'Hypertension']\nax.set_xticklabels(x_ticks_labels)\nplt.show()",
      "execution_count": null,
      "outputs": []
    },
    {
      "metadata": {
        "_uuid": "92fd4f3f911a53a6a61f24dda1c30ac18a31b162",
        "_cell_guid": "58ff14c3-a154-40c5-aa03-e339896a0801"
      },
      "cell_type": "markdown",
      "source": "- From the above visualization we can see that there are around 88,000 patients without Hypertension and out of them around 78% have come for the visit.\n- Out of the 22,500 patients with Hypertension around 85% of them have come for the visit.\n\nSo, Hypertension feature could help us in determining if a patient will turn up for the visit after an appointment."
    },
    {
      "metadata": {
        "_uuid": "2d2058f73e9311a4bc114540b0c7b4a7be845704",
        "_cell_guid": "01cb6a14-a8f3-41a1-9119-29d2697776c8"
      },
      "cell_type": "markdown",
      "source": "#### 5.6 Diabetes"
    },
    {
      "metadata": {
        "_uuid": "e5709ba66d56f2bf9fdfcf0b0673690072d21d9a",
        "_cell_guid": "c84eedf9-105d-466a-9922-1fc29a250e1c",
        "collapsed": true,
        "trusted": false
      },
      "cell_type": "code",
      "source": "ax = sns.countplot(x=df.Diabetes, hue=df.NoShow, data=df)\nax.set_title(\"Show/NoShow for Diabetes\")\nx_ticks_labels=['No Diabetes', 'Diabetes']\nax.set_xticklabels(x_ticks_labels)\nplt.show()",
      "execution_count": null,
      "outputs": []
    },
    {
      "metadata": {
        "_uuid": "88c110900083a9f43c0734be015cb1318ff49f3f",
        "_cell_guid": "03707121-20ca-4480-a922-7b3e8cd65c43",
        "collapsed": true,
        "trusted": false
      },
      "cell_type": "code",
      "source": "df_d_ratio = df[df.NoShow == 'No'].groupby(['Diabetes']).size()/df.groupby(['Diabetes']).size()\nax = sns.barplot(x=df_d_ratio.index, y=df_d_ratio, palette=\"RdBu_r\")\nax.set_title(\"Show Percentage for Diabetes\")\nx_ticks_labels=['No Diabetes', 'Diabetes']\nax.set_xticklabels(x_ticks_labels)\nplt.show()",
      "execution_count": null,
      "outputs": []
    },
    {
      "metadata": {
        "_uuid": "ce6aae7cc0a09ef4679c028b1432eeec791f38da",
        "_cell_guid": "f2389fcf-fb88-4d68-bed3-5da8bb050cf3"
      },
      "cell_type": "markdown",
      "source": "- From the above visualization we can see that there are around 102,000 patients without Diabetes and out of them around 80% have come for the visit.\n- Out of the 8,500 patients with Diabetes around 83% of them have come for the visit.\n\nSo, Diabetes feature could help us in determining if a patient will turn up for the visit after an appointment."
    },
    {
      "metadata": {
        "_uuid": "a9e879d75f6fc613816bd93fa36c8b388f0533f0",
        "_cell_guid": "b39550dd-0e05-41f6-babb-b8abe884c3f2"
      },
      "cell_type": "markdown",
      "source": "#### 5.7 Alcoholism"
    },
    {
      "metadata": {
        "_uuid": "2eb0e377e6070490202b489e88ffbd5fba91d794",
        "_cell_guid": "954c6909-6cd8-45d3-8db0-330d18e28af2",
        "collapsed": true,
        "trusted": false
      },
      "cell_type": "code",
      "source": "ax = sns.countplot(x=df.Alcoholism, hue=df.NoShow, data=df)\nax.set_title(\"Show/NoShow for Alcoholism\")\nx_ticks_labels=['No Alcoholism', 'Alcoholism']\nax.set_xticklabels(x_ticks_labels)\nplt.show()",
      "execution_count": null,
      "outputs": []
    },
    {
      "metadata": {
        "_uuid": "94b397d185a4837daa7c208d17618daff0d5a400",
        "_cell_guid": "90cbc480-d1a6-4467-9c7f-3df105600307",
        "collapsed": true,
        "trusted": false
      },
      "cell_type": "code",
      "source": "df_a_ratio = df[df.NoShow == 'No'].groupby(['Alcoholism']).size()/df.groupby(['Alcoholism']).size()\nax = sns.barplot(x=df_a_ratio.index, y=df_a_ratio, palette=\"RdBu_r\")\nax.set_title(\"Show Percentage for Alcoholism\")\nx_ticks_labels=['No Alcoholism', 'Alcoholism']\nax.set_xticklabels(x_ticks_labels)\nplt.show()",
      "execution_count": null,
      "outputs": []
    },
    {
      "metadata": {
        "_uuid": "41d74413501b63468cbdefb77fd3ea799ad132d2",
        "_cell_guid": "eddcc14f-eabb-4e70-9925-e346323f4d00"
      },
      "cell_type": "markdown",
      "source": "- From the above visualization we can see that there are around 105,000 patients without Alcoholism and out of them around 80% have come for the visit.\n- Out of the 5,500 patients with Alcoholism around 80% of them have come for the visit.\n\nAs the percentage of visits for patients with and without Alcoholism is the same it may not help us in determining if a patient will come for a visit."
    },
    {
      "metadata": {
        "_uuid": "3a471cb40db524cbb27c80ace6f6ac3f687a279e",
        "_cell_guid": "f2463f08-ded9-4b7f-8825-dd88faf802f5"
      },
      "cell_type": "markdown",
      "source": "#### 5.8 Handicap"
    },
    {
      "metadata": {
        "_uuid": "04def210c555cb28bb8c96a14bbd7d3f9cc81cc5",
        "_cell_guid": "a2b0df32-6480-4890-b7ca-929af6548c96",
        "collapsed": true,
        "trusted": false
      },
      "cell_type": "code",
      "source": "ax = sns.countplot(x=df.Handicap, hue=df.NoShow, data=df)\nax.set_title(\"Show/NoShow for Handicap\")\nplt.show()",
      "execution_count": null,
      "outputs": []
    },
    {
      "metadata": {
        "_uuid": "a22e6cc79dbdc23f06c0c3b64bbdf3ef799cb3be",
        "_cell_guid": "fa4045bc-5ea9-41d3-875e-98d2c2828042",
        "collapsed": true,
        "trusted": false
      },
      "cell_type": "code",
      "source": "df_ha_ratio = df[df.NoShow == 'No'].groupby(['Handicap']).size()/df.groupby(['Handicap']).size()\nax = sns.barplot(x=df_ha_ratio.index, y=df_ha_ratio, palette=\"RdBu_r\")\nax.set_title(\"Show Percentage for Handicap\")\nplt.show()",
      "execution_count": null,
      "outputs": []
    },
    {
      "metadata": {
        "_uuid": "8c70a3d8acf0d23b2e5670dd46e78e3b168836ae",
        "_cell_guid": "8a52f02c-f12f-4773-8afd-c1daadc74fb9"
      },
      "cell_type": "markdown",
      "source": "- From the above visualization we can see that there are around 110,000 patients without Handicap and out of them around 80% have come for the visit.\n\nAs we can see a clear distinction between different Handicap levels this feature will help us in determining if a patient will turn up for the visit after taking an appointment."
    },
    {
      "metadata": {
        "_uuid": "f9c474c0d832492759eb052d6ef3443ab8d3dc25",
        "_cell_guid": "788a7e7e-b472-4e15-b359-4511e0395621"
      },
      "cell_type": "markdown",
      "source": "#### 5.9 SMSReceived"
    },
    {
      "metadata": {
        "_uuid": "8cb88a86e7c2b5ef951f4a8905a41cfdf8e0b667",
        "_cell_guid": "7c040965-c4ea-4487-8d10-db221245d299",
        "collapsed": true,
        "trusted": false
      },
      "cell_type": "code",
      "source": "ax = sns.countplot(x=df.SMSReceived, hue=df.NoShow, data=df)\nax.set_title(\"Show/NoShow for SMSReceived\")\nx_ticks_labels=['No SMSReceived', 'SMSReceived']\nax.set_xticklabels(x_ticks_labels)\nplt.show()",
      "execution_count": null,
      "outputs": []
    },
    {
      "metadata": {
        "_uuid": "e868f5cf77b079bf5681e3f547f48841e3ab064a",
        "_cell_guid": "8c5ae3b2-6795-4409-879f-285cc2a32f88",
        "collapsed": true,
        "trusted": false
      },
      "cell_type": "code",
      "source": "df_s_ratio = df[df.NoShow == 'No'].groupby(['SMSReceived']).size()/df.groupby(['SMSReceived']).size()\nax = sns.barplot(x=df_s_ratio.index, y=df_s_ratio, palette=\"RdBu_r\")\nax.set_title(\"Show Percentage for SMSReceived\")\nx_ticks_labels=['No SMSReceived', 'SMSReceived']\nax.set_xticklabels(x_ticks_labels)\nplt.show()",
      "execution_count": null,
      "outputs": []
    },
    {
      "metadata": {
        "_uuid": "70d3bdac5adac6dca5df9a7e7794cd16c6a271e5",
        "_cell_guid": "a9b3592d-f9cd-4c3a-bac4-e21aa402a02d"
      },
      "cell_type": "markdown",
      "source": "- From the above visualization we can see that there are around 75,000 patients who have not received SMS and out of them around 84% have come for the visit.\n- Out of the 35,500 patients who have received SMS around 72% of them have come for the visit. (This looks opposite to what usually happens. People who do receive a reminder SMS usually tend to visit the hospital more than those who haven't received an SMS. Or this could be an SMS that was recived while booking an appointment and could possibly have no correlation with the visit probability.)\n\nAs we can see a clear distinction between people reveiving SMS and not receiving SMS this feature will help us in determining if a patient will turn up for the visit after taking an appointment."
    },
    {
      "metadata": {
        "_uuid": "0a23dca317f33d0723c2ff2fa86f1b84169d7936",
        "_cell_guid": "ce6997e1-9f19-4f8a-a716-8f65269e7b3f"
      },
      "cell_type": "markdown",
      "source": "#### 5.10 ScheduledDay_DOW"
    },
    {
      "metadata": {
        "_uuid": "af7af89a24c9f392c8b1b2918b6de83ba85ea8e5",
        "_cell_guid": "224d5167-858f-4c9c-8ce8-d5c18d40157c",
        "collapsed": true,
        "trusted": false
      },
      "cell_type": "code",
      "source": "plt.figure(figsize=(16,4))\nax = sns.countplot(x=df.ScheduledDay_DOW, order=week_key)\nax.set_title(\"Appointment Count for Scheduled Day of Week\")\nplt.show()",
      "execution_count": null,
      "outputs": []
    },
    {
      "metadata": {
        "_uuid": "2fec1cd2a61230cda32eb353adb63b5903266b66",
        "_cell_guid": "bba23cb7-a5a2-47a9-928a-76d75e880a76"
      },
      "cell_type": "markdown",
      "source": "- Looks like the call center that takes the appointments doesn't work over the weekends as we do not see any appointments taken on `Saturday` and `Sunday'."
    },
    {
      "metadata": {
        "_uuid": "6500fd9a36f46c912c84b78c80dd17dfbbe7e676",
        "_cell_guid": "c78dc68a-e6a5-4cbd-8fb0-5a35bf5ae426"
      },
      "cell_type": "markdown",
      "source": "#### 5.11 AppointmentDay_DOW"
    },
    {
      "metadata": {
        "_uuid": "7260d721b37f22d61aca189a01ee7ba043aa16d6",
        "_cell_guid": "f5b7ae7e-220f-43d4-8faa-e31f78e7692a",
        "collapsed": true,
        "trusted": false
      },
      "cell_type": "code",
      "source": "plt.figure(figsize=(16,4))\nax = sns.countplot(x=df.AppointmentDay_DOW, order=week_key)\nax.set_title(\"Appointment Count for Appointment Day of Week\")\nplt.show()",
      "execution_count": null,
      "outputs": []
    },
    {
      "metadata": {
        "_uuid": "2968e85a5ceab59677612e3fdb2266bdf6b6eba1",
        "_cell_guid": "edab666c-2051-4a30-ae70-2b687b06c435"
      },
      "cell_type": "markdown",
      "source": "- There looks like a pattern with the appointments from the above visualizations. Also, we can see there are very less appointments on `Saturday` and no appointments on `Sunday`.\n\nSo, AppointmentDay_DOW could help in determining if a patient visits the hospital after taking an appointment."
    },
    {
      "metadata": {
        "_uuid": "738a28ca07c2e3072760e17b8ee7eeee4e37287e",
        "_cell_guid": "6013664f-c76d-4da0-95da-d63ef63c453d",
        "collapsed": true,
        "trusted": false
      },
      "cell_type": "code",
      "source": "plt.figure(figsize=(16,4))\nax = sns.countplot(x=df.AppointmentDay_DOW, hue=df.NoShow, order=week_key)\nax.set_title(\"Show/NoShow for Appointment Day of the Week\")\nplt.show()",
      "execution_count": null,
      "outputs": []
    },
    {
      "metadata": {
        "_uuid": "3e554271e8ce90e15be402126837474ec2d3f0bc",
        "_cell_guid": "f27fc855-2b04-47e9-b150-f519d6343d9b",
        "collapsed": true,
        "trusted": false
      },
      "cell_type": "code",
      "source": "df_a_dow_ratio = df[df.NoShow == 'No'].groupby(['AppointmentDay_DOW']).size()/df.groupby(['AppointmentDay_DOW']).size()\nplt.figure(figsize=(16,4))\nax = sns.barplot(x=df_a_dow_ratio.index, y=df_a_dow_ratio, order=week_key, palette=\"RdBu_r\")\nax.set_title(\"Show Percent for Appointment Day of the Week\")\nplt.show()",
      "execution_count": null,
      "outputs": []
    },
    {
      "metadata": {
        "_uuid": "5043a8444bc22b4b05dcd96efff01adf567ec409",
        "_cell_guid": "c141fe1a-d10e-474d-9816-046208bb0bca"
      },
      "cell_type": "markdown",
      "source": "- As we predicted earlier, we do not see a clear pattern in the patients visits based on the week day. But we can observe that on Saturday's the percentage of visits is less. So, AppointmentDay_DOW can help us in predicting the visits by a small number."
    },
    {
      "metadata": {
        "_uuid": "744639bb71ccb76a593e2bfce48b1d69b0166c1f",
        "_cell_guid": "1dafd7b2-cfc8-4acd-933f-9e8f001d22ee"
      },
      "cell_type": "markdown",
      "source": "#### 5.12 Waiting_Time"
    },
    {
      "metadata": {
        "_uuid": "34d7e734a5364b0cb119f31a75e76ec57975a8b6",
        "_cell_guid": "00641022-2525-4d43-9f8c-4f22aa44c5cd",
        "collapsed": true,
        "trusted": false
      },
      "cell_type": "code",
      "source": "plt.figure(figsize=(16,4))\nax = sns.countplot(x=df.Waiting_Time_days, order=df.Waiting_Time_days.value_counts().iloc[:55].index)\nax.set_title(\"Waiting Time in Days (Descending Order)\")\nplt.show()",
      "execution_count": null,
      "outputs": []
    },
    {
      "metadata": {
        "_uuid": "45c2aa87149abf4e21d355de7572f870d1e8e681",
        "_cell_guid": "1ae85ee1-b8d5-4145-b186-91ea84ad3684"
      },
      "cell_type": "markdown",
      "source": "- From the above visualization we can see that most of the patients are booking their appointments on the same day. The next highest waiting times are 2days, 4 days and 1 day."
    },
    {
      "metadata": {
        "_uuid": "c8dd94f0ab27ca3ce71761b3ba3ee12831e2bdc2",
        "_cell_guid": "63102892-dfb5-4033-a506-b77693b0fd8f",
        "collapsed": true,
        "trusted": false
      },
      "cell_type": "code",
      "source": "plt.figure(figsize=(16,4))\nax = sns.countplot(x=df.Waiting_Time_days, order=df.Waiting_Time_days.value_counts(ascending=True).iloc[:55].index)\nax.set_title(\"Waiting Time in Days (Ascending Order)\")\nplt.show()",
      "execution_count": null,
      "outputs": []
    },
    {
      "metadata": {
        "_uuid": "caa0d588e56153e98115cbbb4de45f1ba7212f42",
        "_cell_guid": "4e382acb-8722-44b8-ae8d-b6ed8fe88780",
        "collapsed": true,
        "trusted": false
      },
      "cell_type": "code",
      "source": "plt.figure(figsize=(16,4))\nax = sns.countplot(x=df.Waiting_Time_days, hue=df.NoShow, order=df.Waiting_Time_days.value_counts().iloc[:25].index)\nax.set_title(\"Show/NoShow Count for Waiting Time in Days (High Count)\")\nplt.show()",
      "execution_count": null,
      "outputs": []
    },
    {
      "metadata": {
        "_uuid": "b48c6388e5e850bbbbb740480fc3b433ef04bfc9",
        "_cell_guid": "7085845e-e456-4c62-b03a-078652be1643",
        "collapsed": true,
        "trusted": false
      },
      "cell_type": "code",
      "source": "plt.figure(figsize=(16,4))\nax = sns.countplot(x=df.Waiting_Time_days, hue=df.NoShow, order=df.Waiting_Time_days.value_counts(ascending=True).iloc[:55].index)\nax.set_title(\"Show/NoShow Count for Waiting Time in Days (Low Count)\")\nplt.show()",
      "execution_count": null,
      "outputs": []
    },
    {
      "metadata": {
        "_uuid": "4b702c5cf6a765fa95fb0e92345b2a08c117af6a",
        "_cell_guid": "02239d87-02b8-457b-8e01-8c06ca1191d2"
      },
      "cell_type": "markdown",
      "source": "- Below we will visualize the last few rows (High WaitTime) for the Waiting_Time_days column."
    },
    {
      "metadata": {
        "_uuid": "acd0911bd23d428dd5971e0995f9b4ed67104164",
        "_cell_guid": "dc8196c5-dfdc-4114-92b9-3ad13e262d1d",
        "collapsed": true,
        "trusted": false
      },
      "cell_type": "code",
      "source": "plt.figure(figsize=(16,4))\nax = sns.countplot(x=df[['Waiting_Time_days']].sort_values('Waiting_Time_days', ascending=False).Waiting_Time_days.iloc[:400])\nax.set_title(\"Descending Waiting Time in Days\")\nplt.show()",
      "execution_count": null,
      "outputs": []
    },
    {
      "metadata": {
        "_uuid": "0d5b8fff4cdb3498b0807162399c1ee73e85f274",
        "_cell_guid": "ee421920-549d-4f02-b9d9-d77cc04f5e35",
        "collapsed": true,
        "trusted": false
      },
      "cell_type": "code",
      "source": "plt.figure(figsize=(16,4))\nax = sns.countplot(x=df[['Waiting_Time_days']].sort_values('Waiting_Time_days', ascending=False).Waiting_Time_days.iloc[:400], hue=df.NoShow)\nax.set_title(\"Show/NoShow - Descending Waiting Time in Days\")\nplt.show()",
      "execution_count": null,
      "outputs": []
    },
    {
      "metadata": {
        "_uuid": "bf0837741ea918a59aaf0fe4e2473b5056b025cb",
        "_cell_guid": "1cc7d0e8-8aa7-4e12-a071-de2372753346",
        "collapsed": true,
        "trusted": false
      },
      "cell_type": "code",
      "source": "df_w_ratio = df[df.NoShow == 'No'].groupby(['Waiting_Time_days']).size()/df.groupby(['Waiting_Time_days']).size()\n\nplt.figure(figsize=(16,4))\nax = sns.barplot(x=df_w_ratio.index, y=df_w_ratio, order=df.Waiting_Time_days.iloc[:70].index, palette=\"BuGn_d\")\nax.set_title(\"Percent of Show for Waiting Time in Days\")\nplt.show()",
      "execution_count": null,
      "outputs": []
    },
    {
      "metadata": {
        "_uuid": "bfad0e7800df8a9252abab2c7651e1ed2123a31e",
        "_cell_guid": "e566bb6e-82a3-4486-b119-5eaebfd65803"
      },
      "cell_type": "markdown",
      "source": "From the above visualization we can see that around 95% of the patients who have booked their appointments on the same day and visiting the hospital without fail. Also close to 80% of the patients are visiting the hospital if they had booked their appointments just before 4 days.\n\nAs we have a clear distinction for the patients Show/NoShow with the Waiting_Time_days feature this indeed should help us with a better prediction."
    },
    {
      "metadata": {
        "_uuid": "ef2056e7dbbf69480f8bf9c1db79ca201a576a00",
        "_cell_guid": "a2bf0567-f50d-4988-8702-2e6e8ffce0eb"
      },
      "cell_type": "markdown",
      "source": "### 6. Model Building"
    },
    {
      "metadata": {
        "_uuid": "589cd8220a7f3a8639386947fa8de30d0e432832",
        "_cell_guid": "7d90f392-457c-4abc-9561-d70601c30d09",
        "collapsed": true,
        "trusted": false
      },
      "cell_type": "code",
      "source": "df.info()",
      "execution_count": null,
      "outputs": []
    },
    {
      "metadata": {
        "_uuid": "7b9e0a2f083d3aa4e4718745fc1ee1956afa51c6",
        "_cell_guid": "eae2741c-2b38-490d-82d6-5a507618126c",
        "collapsed": true,
        "trusted": false
      },
      "cell_type": "code",
      "source": "# Use `LabelEncoder` to encode labels with value between 0 and n_classes-1.\n#Gender\nle = LabelEncoder()\ndf['Gender'] = le.fit_transform(df['Gender'])\n#Neighbourhood\nle = LabelEncoder()\ndf['Neighbourhood'] = le.fit_transform(df['Neighbourhood'])\n#ScheduledDay_DOW\nle = LabelEncoder()\ndf['ScheduledDay_DOW'] = le.fit_transform(df['ScheduledDay_DOW'])\n#AppointmentDay_DOW\nle = LabelEncoder()\ndf['AppointmentDay_DOW'] = le.fit_transform(df['AppointmentDay_DOW'])\nprint(\"LabelEncoder Completed\")\n\n#NoShow\nle = LabelEncoder()\ndf['NoShow'] = le.fit_transform(df['NoShow'])",
      "execution_count": null,
      "outputs": []
    },
    {
      "metadata": {
        "_uuid": "c889fb6da379886842a3cd7b9c44b71dd9bdd2ed",
        "_cell_guid": "bf93e7aa-3589-4368-833a-99bbde7f7d64",
        "collapsed": true,
        "trusted": false
      },
      "cell_type": "code",
      "source": "df['ScheduledDay_Y'] = df['ScheduledDay'].dt.year\ndf['ScheduledDay_M'] = df['ScheduledDay'].dt.month\ndf['ScheduledDay_D'] = df['ScheduledDay'].dt.day\ndf.drop(['ScheduledDay'], axis=1, inplace=True)\n\ndf['AppointmentDay_Y'] = df['AppointmentDay'].dt.year\ndf['AppointmentDay_M'] = df['AppointmentDay'].dt.month\ndf['AppointmentDay_D'] = df['AppointmentDay'].dt.day\ndf.drop(['AppointmentDay'], axis=1, inplace=True)",
      "execution_count": null,
      "outputs": []
    },
    {
      "metadata": {
        "_uuid": "5384c561093b3d40ea8a03955742bdb2b6d76ec9",
        "_cell_guid": "671f5fa2-a370-4a16-a609-1938f05b996e",
        "collapsed": true,
        "trusted": false
      },
      "cell_type": "code",
      "source": "df.sample(n=10)",
      "execution_count": null,
      "outputs": []
    },
    {
      "metadata": {
        "_uuid": "f38856bdcb3574e717fef2e4ccccf4526757daf3",
        "_cell_guid": "f9a2e353-c76f-40d1-8be0-4db4eddb5548"
      },
      "cell_type": "markdown",
      "source": "**From the basic EDA we see that there are around 80% of the patients who have turned up. We see a clear class imbalance problem here. A naive approach of predicting that every one shows up gives us an accuracy of 0.8. Below we shall see how well the classifiers score on this dataset.**"
    },
    {
      "metadata": {
        "_uuid": "c327d56460c26d5ba272e163d627a5787e392652",
        "_cell_guid": "79cc32f8-9c1b-47c1-a571-50aec0107f6d",
        "collapsed": true,
        "trusted": false
      },
      "cell_type": "code",
      "source": "# Get the Dependent and Independent Features.\nX = df.drop(['NoShow'], axis=1)\ny = df['NoShow']",
      "execution_count": null,
      "outputs": []
    },
    {
      "metadata": {
        "_uuid": "211c43213092b7e6dd92a7eaddf28fc4285927c4",
        "_cell_guid": "f4eaf738-0b96-47a5-8cf9-4b2af833cbd3",
        "collapsed": true,
        "trusted": false
      },
      "cell_type": "code",
      "source": "X_train, X_test, y_train, y_test = train_test_split(X, y, test_size=0.33, random_state=0)",
      "execution_count": null,
      "outputs": []
    },
    {
      "metadata": {
        "_uuid": "eb7a717e7624ca41da967c21833ddafbe4da454f",
        "_cell_guid": "8fd3af6d-021e-43d5-a895-877e9518725f"
      },
      "cell_type": "markdown",
      "source": "#### 6.1 DecisionTreeClassifier"
    },
    {
      "metadata": {
        "_uuid": "9c95a1091d974faeeb1b4da92d84214790073814",
        "_cell_guid": "a53629a8-6c76-46ff-b9d4-7501353731f3",
        "collapsed": true,
        "trusted": false
      },
      "cell_type": "code",
      "source": "dt_clf = DecisionTreeClassifier(random_state=0)\ndt_clf.fit(X_train, y_train)",
      "execution_count": null,
      "outputs": []
    },
    {
      "metadata": {
        "_uuid": "22130f45fb89fda06a8e889dc7eea2fb02f21a49",
        "_cell_guid": "4c53c28e-fe14-4d2d-b499-439bea190809",
        "collapsed": true,
        "trusted": false
      },
      "cell_type": "code",
      "source": "print(\"Feature Importance:\\n\")\nfor name, importance in zip(X.columns, np.sort(dt_clf.feature_importances_)[::-1]):\n    print(\"{} -- {:.2f}\".format(name, importance))",
      "execution_count": null,
      "outputs": []
    },
    {
      "metadata": {
        "_uuid": "cce68132430d0c84d243cb0b12632eb845f5aed9",
        "_cell_guid": "bd9e1ce7-080e-4ead-b7fa-22e10e8c2426",
        "collapsed": true,
        "trusted": false
      },
      "cell_type": "code",
      "source": "dt_clf.score(X_test, y_test)",
      "execution_count": null,
      "outputs": []
    },
    {
      "metadata": {
        "_uuid": "f127a0a7129e26939858bae10615b30b820bcccc",
        "_cell_guid": "d5641f3c-0fc9-4bd1-b80e-05a79a65de29"
      },
      "cell_type": "markdown",
      "source": "#### 6.2 RandomForestClassifier"
    },
    {
      "metadata": {
        "_uuid": "77c01191766d8be3e1e23719ad93b8766b123e94",
        "_cell_guid": "f3af49a4-b8e7-4ac9-89c6-1db58e8831bc",
        "collapsed": true,
        "trusted": false
      },
      "cell_type": "code",
      "source": "rf_clf = RandomForestClassifier(random_state=0)\nrf_clf.fit(X_train, y_train)",
      "execution_count": null,
      "outputs": []
    },
    {
      "metadata": {
        "_uuid": "58bf91835aca5fea5e8655aea7883b3c3fd0df13",
        "_cell_guid": "f9f5668b-45cd-4df5-ad3d-d4793a4ca73f",
        "collapsed": true,
        "trusted": false
      },
      "cell_type": "code",
      "source": "print(\"Feature Importance:\\n\")\nfor name, importance in zip(X.columns, np.sort(rf_clf.feature_importances_)[::-1]):\n    print(\"{} -- {:.2f}\".format(name, importance))",
      "execution_count": null,
      "outputs": []
    },
    {
      "metadata": {
        "_uuid": "2aaa342f8ccb1990537aa38a5df714628a79a89e",
        "_cell_guid": "765c758b-b7ed-45d8-b677-574a2b4bcf5c",
        "collapsed": true,
        "trusted": false
      },
      "cell_type": "code",
      "source": "rf_clf.score(X_test, y_test)",
      "execution_count": null,
      "outputs": []
    },
    {
      "metadata": {
        "_uuid": "47f09ff13abc5c360885c02740cf9b515da6006e",
        "_cell_guid": "6f54ca6b-47fa-4668-bb45-96472174b575"
      },
      "cell_type": "markdown",
      "source": "#### 6.3 GridSearchCV"
    },
    {
      "metadata": {
        "_uuid": "175d0e4f9947e9568547bb5e9842c338a92880db",
        "_cell_guid": "cdd249dd-7995-4527-8082-b32372bc08c6",
        "collapsed": true,
        "trusted": false
      },
      "cell_type": "code",
      "source": "params={'n_estimators':[10,20], 'max_depth':[None, 5], 'min_samples_split':[2,3]}\nrf_clf = RandomForestClassifier(random_state=0)\nclf_grid = GridSearchCV(rf_clf, params, cv=5, n_jobs=-1, verbose=1)\nclf_grid.fit(X, y)\nprint(clf_grid.best_params_)\nprint(clf_grid.best_score_)",
      "execution_count": null,
      "outputs": []
    },
    {
      "metadata": {
        "_uuid": "3f31467b1857f067fc5145e93320d90b6cc346bd",
        "_cell_guid": "329a6213-dccf-4485-ba2c-3f7f8fd9befd"
      },
      "cell_type": "markdown",
      "source": "From the above Model Score we can see that we are doing almost similar to the naive predictor. Also, as we have imbalanced classes, we should ideally use different metric like `F1-Score` rather than `Accuracy`."
    },
    {
      "metadata": {
        "_uuid": "f1083821e4617482a82c331797836fca247573c6",
        "_cell_guid": "82420cfd-b21e-4fbb-80db-47b9ea440882"
      },
      "cell_type": "markdown",
      "source": "#### 7. LImitations"
    },
    {
      "metadata": {
        "_uuid": "bb21545784c3e1c22f9934c224f9ae158c1474f5",
        "_cell_guid": "3eaad3bf-eefe-4dd6-9ea4-833356485519"
      },
      "cell_type": "markdown",
      "source": "From the data we can see that the AppointmentDay spans just over a month which means that we were given only a snapshot of complete data. Though there are no null values in the data, making exact predictions and analysis on a snapshot data is difficult and the analysis might not make a representation of the whole data.\n\nAnother very important thing that was missing from the data is the Time details in the AppointmentDay which would really help us a lot in predicting NoShow of a patient. As we have the time detail for ScheduledDay, we should have saved the similar thing in AppointmentDay also and not just normalize it.\n\nAlso, a reason for the appointment and the consultation doctor specialization would have helped us a lot in making better analysis and predictions for the NoShow of a patient."
    },
    {
      "metadata": {
        "_uuid": "dfb9e16a92c0913b73ada66fd5bf95b7538cd1b3",
        "_cell_guid": "49721f89-780e-45f0-92ac-493c8fd3f8cd"
      },
      "cell_type": "markdown",
      "source": "#### 8. Conclusion"
    },
    {
      "metadata": {
        "_uuid": "b6a182065f64ffc05719b87d11656b100afbe42c",
        "_cell_guid": "43eb2857-5f9f-4a07-9a6d-bbb28e1d6428"
      },
      "cell_type": "markdown",
      "source": "From the above feature importance, we could see that `Gender`, `Age`, `Neighbourhood`, `Scholarship` and `Hypertension` are some of the top features that would help us determine if the patient who has taken an appointment will Show/NoShow."
    }
  ],
  "metadata": {
    "kernelspec": {
      "display_name": "Python 3",
      "language": "python",
      "name": "python3"
    },
    "language_info": {
      "mimetype": "text/x-python",
      "file_extension": ".py",
      "name": "python",
      "nbconvert_exporter": "python",
      "version": "3.6.4",
      "codemirror_mode": {
        "version": 3,
        "name": "ipython"
      },
      "pygments_lexer": "ipython3"
    }
  },
  "nbformat": 4,
  "nbformat_minor": 1
}
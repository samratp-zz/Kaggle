{
  "cells": [
    {
      "metadata": {
        "_uuid": "2ed3f621882db2d8dd6834285561c2de2b9c3744",
        "_cell_guid": "25b8c54c-9c8d-4677-ad90-f04843219d62"
      },
      "cell_type": "markdown",
      "source": "### Here is a simple MachineLearning notebook for beginners. The notebook includes:\n1. #### Feature Engineering\n2. #### Visualization\n3. #### Voting Classifier"
    },
    {
      "metadata": {
        "_uuid": "345d9f4d89032a766497dd8481e2831ca10a1ba6",
        "collapsed": true,
        "_cell_guid": "2c84d742-66ed-4cba-bb85-fdebecdf8b28",
        "trusted": false
      },
      "cell_type": "code",
      "source": "# Import the required libraries\nimport numpy as np # linear algebra\nimport pandas as pd # data processing, CSV file I/O (e.g. pd.read_csv)\n\nfrom matplotlib import pyplot as plt\n%matplotlib inline\nimport seaborn as sns\n\nfrom sklearn import preprocessing\nfrom sklearn import metrics\nfrom sklearn.model_selection import train_test_split\nfrom sklearn.model_selection import GridSearchCV\n\nfrom sklearn.tree import DecisionTreeClassifier\n\nfrom sklearn.ensemble import VotingClassifier\nfrom sklearn.ensemble import RandomForestClassifier\nfrom sklearn.ensemble import BaggingClassifier\nfrom sklearn.ensemble import GradientBoostingClassifier\nfrom sklearn.neighbors import KNeighborsClassifier\nfrom sklearn.linear_model import LogisticRegression\nfrom sklearn.svm import SVC\n\nimport warnings\nwarnings.filterwarnings(\"ignore\")",
      "execution_count": null,
      "outputs": []
    },
    {
      "metadata": {
        "_uuid": "c0d5d145bf104fb14f4971c1ba91fc650245eb07",
        "_cell_guid": "2e0b509d-eee4-4046-b6d8-22fa9a3a45ac"
      },
      "cell_type": "markdown",
      "source": "Below we will import the data for this project. There are 2 data files:\n- train.csv -> Contains the training data.\n- test.csv -> Contains the testing data for which we have to predict the category."
    },
    {
      "metadata": {
        "_uuid": "c6e158516872bcf0f6db979daeb06f3f1d77c8e5",
        "collapsed": true,
        "_cell_guid": "cf0b7d9e-4219-4995-bc57-728277739173",
        "trusted": false
      },
      "cell_type": "code",
      "source": "train_data_orig = pd.read_csv('../input/train.csv')\ntest_data_orig = pd.read_csv('../input/test.csv')",
      "execution_count": null,
      "outputs": []
    },
    {
      "metadata": {
        "_uuid": "bd22bb4fab6710ce2b44d5364d1b24470a513e99",
        "_cell_guid": "3ce2596c-9830-47c5-9f28-e7e6d9fa809c"
      },
      "cell_type": "markdown",
      "source": "We will print the shape of train and test dataframes to get a view of the number of columns and rows."
    },
    {
      "metadata": {
        "_uuid": "c4d56563a6e09d89158baba28265119c7ae1e6de",
        "_cell_guid": "b5a22ad6-fe3d-40f2-9950-951e6fe01bdb",
        "trusted": false,
        "collapsed": true
      },
      "cell_type": "code",
      "source": "print(\"Shape of Training Data\")\nprint(train_data_orig.shape)\nprint(\"\\n\")\n\nprint(\"Shape of Testing Data\")\nprint(test_data_orig.shape)",
      "execution_count": null,
      "outputs": []
    },
    {
      "metadata": {
        "_uuid": "db064a97e526f0437e086dbe2ae54a67ff872ecb",
        "_cell_guid": "569a9a51-e302-413f-a21a-95bc2a1dc6d9"
      },
      "cell_type": "markdown",
      "source": "Below we will print the columns present in Training and Testing data."
    },
    {
      "metadata": {
        "_uuid": "7e96311fa95c6520f63a763cb9badc43b9f828cc",
        "_cell_guid": "b699ec8c-5f1e-4d78-94da-8bed4a076a15",
        "trusted": false,
        "collapsed": true
      },
      "cell_type": "code",
      "source": "print(\"Columns in Training Data\")\nprint(train_data_orig.columns)\nprint(\"\\n\")\n\nprint(\"Columns in Testing Data\")\nprint(test_data_orig.columns)",
      "execution_count": null,
      "outputs": []
    },
    {
      "metadata": {
        "_uuid": "24461ff7099951c3e999dd4d16f543385c5d4bc0",
        "_cell_guid": "4f2aa252-053f-479f-92ae-85e4c51abd85"
      },
      "cell_type": "markdown",
      "source": "From the above details we could clearly see that based on the independet features 'bone_length', 'rotting_flesh', 'hair_length', 'has_soul' and 'color' we have to predict the dependent variable - 'type'."
    },
    {
      "metadata": {
        "_uuid": "f57fdcea2c425561e87602426bfa67f2185b649f",
        "_cell_guid": "1816423a-15a6-41fb-899f-40dd4527b895",
        "trusted": false,
        "collapsed": true
      },
      "cell_type": "code",
      "source": "train_data_orig.info()",
      "execution_count": null,
      "outputs": []
    },
    {
      "metadata": {
        "_uuid": "93d1ea04aff50c81c9fbe406902c353a8055ca21",
        "_cell_guid": "3cb67a8c-6ca3-43be-9d6f-080a77904765",
        "trusted": false,
        "collapsed": true
      },
      "cell_type": "code",
      "source": "train_data_orig.head()",
      "execution_count": null,
      "outputs": []
    },
    {
      "metadata": {
        "_uuid": "1877838f8c4b2d6b8e5d563cf4e632078a8acbb0",
        "_cell_guid": "3a691b1a-985f-4417-becd-dff2d3e8e876"
      },
      "cell_type": "markdown",
      "source": "Drop the 'id' column from train and test data as it is not required."
    },
    {
      "metadata": {
        "_uuid": "ad97956dbb3b310c6ab9aa63f4df5ebe9ecc9ad8",
        "collapsed": true,
        "_cell_guid": "ca6d4ffe-3632-4805-a06a-dd3d78e1a064",
        "trusted": false
      },
      "cell_type": "code",
      "source": "train_data = train_data_orig.drop(['id'], axis = 1)\ntest_data = test_data_orig.drop(['id'], axis = 1)",
      "execution_count": null,
      "outputs": []
    },
    {
      "metadata": {
        "_uuid": "50fd3218831a5d4907b4e545c2cd69c7f9c5398a",
        "_cell_guid": "3cfec49d-31a5-4f62-a262-3d5f61a95bd1"
      },
      "cell_type": "markdown",
      "source": "From the above information we colud see that 'bone_length', 'rotting_flesh', 'hair_length' and 'has_soul' are float values. 'color' and 'type' have categorical values. Below, we will try to get more about each of the columns."
    },
    {
      "metadata": {
        "_uuid": "043315b62e3a8fda18c55dded4d70a07559896ab",
        "_cell_guid": "1f9b981e-77c0-456a-acbb-a216c4c21c5a",
        "trusted": false,
        "collapsed": true
      },
      "cell_type": "code",
      "source": "train_data.describe()",
      "execution_count": null,
      "outputs": []
    },
    {
      "metadata": {
        "_uuid": "8b99772d6c2505c08c33e3d558aecb7fc16a44cd",
        "_cell_guid": "c7ad8514-029d-486a-87d4-a6367a438014",
        "trusted": false,
        "collapsed": true
      },
      "cell_type": "code",
      "source": "test_data.describe()",
      "execution_count": null,
      "outputs": []
    },
    {
      "metadata": {
        "_uuid": "bc7e21be512f8c37369341d3341164cb01c0621c",
        "_cell_guid": "522e0175-a08a-41b2-84b4-6e3f8d5948c0",
        "trusted": false,
        "collapsed": true
      },
      "cell_type": "code",
      "source": "print(np.sort(train_data['color'].unique()))\nprint(np.sort(test_data['color'].unique()))",
      "execution_count": null,
      "outputs": []
    },
    {
      "metadata": {
        "_uuid": "fa4fd6043baed7fbb490c0c6adda8bcd7dfdc4c2",
        "_cell_guid": "5ad675a8-e356-4d36-ade7-b117d2a0c6f3",
        "trusted": false,
        "collapsed": true
      },
      "cell_type": "code",
      "source": "print(np.sort(train_data['type'].unique()))",
      "execution_count": null,
      "outputs": []
    },
    {
      "metadata": {
        "_uuid": "505053488790ece8b845ad3a43e9d137854bd626",
        "_cell_guid": "b9b009e7-7c65-40a3-b4c8-10c918b5c2d3"
      },
      "cell_type": "markdown",
      "source": "The data looks good without any missing values. As we have got some details about our data we will do a bit more of analysis using some visualizations."
    },
    {
      "metadata": {
        "_uuid": "82ff519059025951a3de5ed574ebfc38b2e27184",
        "_cell_guid": "42968563-fb30-4fbb-9cf3-4252bc9c5833",
        "trusted": false,
        "collapsed": true
      },
      "cell_type": "code",
      "source": "# Use LabelEncoder for the 'color' feature\ncolor_le = preprocessing.LabelEncoder()\ncolor_le.fit(train_data['color'])\ntrain_data['color_int'] = color_le.transform(train_data['color'])\n\n_ = sns.pairplot(train_data.drop('color', axis = 1), hue = 'type', palette = 'muted', diag_kind='kde')\n\ntrain_data.drop('color_int', axis = 1, inplace = True)",
      "execution_count": null,
      "outputs": []
    },
    {
      "metadata": {
        "_uuid": "ca3989a1628fe29a328cbffaafa46fb92253e0e9",
        "_cell_guid": "d71233b5-cfb2-4588-ba14-f0ff42fa4563"
      },
      "cell_type": "markdown",
      "source": "Show the correlation between each of the features via a heatmap."
    },
    {
      "metadata": {
        "_uuid": "980abdf6f3d7608b3c463c0f2f619764a60de5e7",
        "_cell_guid": "1bc31126-4e9f-4796-bfbc-2da089433a69",
        "trusted": false,
        "collapsed": true
      },
      "cell_type": "code",
      "source": "_ = sns.heatmap(train_data.corr(), annot = True, fmt = \".2f\", cmap = 'YlGnBu')",
      "execution_count": null,
      "outputs": []
    },
    {
      "metadata": {
        "_uuid": "88d458cc410b6da2b3a56e4f65f4503b92f13b1f",
        "_cell_guid": "2e0d0654-9803-4f44-a229-cb94a39a4c18",
        "trusted": false,
        "collapsed": true
      },
      "cell_type": "code",
      "source": "g = sns.FacetGrid(pd.melt(train_data, id_vars='type', value_vars = ['bone_length', 'rotting_flesh', 'hair_length', 'has_soul']), col = 'type')\ng = g.map(sns.boxplot, 'value', 'variable', palette = 'muted')",
      "execution_count": null,
      "outputs": []
    },
    {
      "metadata": {
        "_uuid": "ec44d806b7891ed7b550d005e4734651953a20a1",
        "_cell_guid": "49492b25-0f16-45ad-917f-2dce2e5f12e0"
      },
      "cell_type": "markdown",
      "source": "We will create a DecisionTreeClassifier which will serve as a base classifier for comapring the accuracy with our future models."
    },
    {
      "metadata": {
        "_uuid": "67a2519cb5ebe116781cc28a4c7531b910ecdeb0",
        "_cell_guid": "aad5c84d-847e-4b25-9a38-29bc788ef47b",
        "trusted": false,
        "collapsed": true
      },
      "cell_type": "code",
      "source": "df = pd.get_dummies(train_data.drop('type', axis = 1))\nX_train, X_test, y_train, y_test = train_test_split(df, train_data['type'], test_size = 0.25, random_state = 0)\n\ndt_clf = DecisionTreeClassifier(random_state = 0)\ndt_clf.fit(X_train, y_train)\ny_pred = dt_clf.predict(X_test)\n\nprint(metrics.classification_report(y_test, y_pred))\nprint(\"\\nAccuracy Score is: \" + str(metrics.accuracy_score(y_test, y_pred)))",
      "execution_count": null,
      "outputs": []
    },
    {
      "metadata": {
        "_uuid": "25a83082be882e5770671dda99169279ad7a4ea1",
        "collapsed": true,
        "_cell_guid": "b3255513-e74d-4ba3-be7f-080da05ae5a3",
        "trusted": false
      },
      "cell_type": "code",
      "source": "accuracy_scorer = metrics.make_scorer(metrics.accuracy_score)",
      "execution_count": null,
      "outputs": []
    },
    {
      "metadata": {
        "_uuid": "c2c77a6169a72cd6a5484d2bb27c44734d8abf5f",
        "collapsed": true,
        "_cell_guid": "84cc9556-68fd-4767-aae2-1259e5e544db",
        "trusted": false
      },
      "cell_type": "code",
      "source": "X_train = pd.get_dummies(train_data.drop('type', axis = 1))\ny_train = train_data['type']\nX_test = pd.get_dummies(test_data)",
      "execution_count": null,
      "outputs": []
    },
    {
      "metadata": {
        "_uuid": "ab2c1bce4934c5aefe7170bc41e44180dd38093e",
        "_cell_guid": "71c63de8-ec5a-46f8-bcbd-924696e62b92",
        "trusted": false,
        "collapsed": true
      },
      "cell_type": "code",
      "source": "params = {'n_estimators':[10, 20, 50, 100], 'criterion':['gini', 'entropy'], 'max_depth':[None, 5, 10, 25, 50]}\nrf = RandomForestClassifier(random_state = 0)\nclf = GridSearchCV(rf, param_grid = params, scoring = accuracy_scorer, cv = 5, n_jobs = -1)\nclf.fit(X_train, y_train)\nprint('Best score: {}'.format(clf.best_score_))\nprint('Best parameters: {}'.format(clf.best_params_))\n\nrf_best = RandomForestClassifier(n_estimators = 10, random_state = 0)",
      "execution_count": null,
      "outputs": []
    },
    {
      "metadata": {
        "_uuid": "33584ce29e42eb3e7331f081c5ab7cd84513f127",
        "_cell_guid": "6c137ad0-f86b-494d-ba8d-b664b23b1545",
        "trusted": false,
        "collapsed": true
      },
      "cell_type": "code",
      "source": "params = {'n_estimators':[10, 25, 50, 100], 'max_samples':[1, 3, 5, 10]}\nbag = BaggingClassifier(random_state = 0)\nclf = GridSearchCV(bag, param_grid = params, scoring = accuracy_scorer, cv = 5, n_jobs = -1)\nclf.fit(X_train, y_train)\nprint('Best score: {}'.format(clf.best_score_))\nprint('Best parameters: {}'.format(clf.best_params_))\n\nbag_best = BaggingClassifier(max_samples = 5, n_estimators = 25, random_state = 0)",
      "execution_count": null,
      "outputs": []
    },
    {
      "metadata": {
        "_uuid": "b03470ced09e3e35529eba4be92a31d5fb6a2094",
        "_cell_guid": "1f740394-75ee-4fd3-bef9-aee0b2903f22",
        "trusted": false,
        "collapsed": true
      },
      "cell_type": "code",
      "source": "params = {'learning_rate':[0.05, 0.1, 0.5], 'n_estimators':[100, 200, 500], 'max_depth':[2, 3, 5, 10]}\ngbc = GradientBoostingClassifier(random_state = 0)\nclf = GridSearchCV(gbc, param_grid = params, scoring = accuracy_scorer, cv = 5, n_jobs = -1)\nclf.fit(X_train, y_train)\nprint('Best score: {}'.format(clf.best_score_))\nprint('Best parameters: {}'.format(clf.best_params_))\n\ngbc_best = GradientBoostingClassifier(learning_rate = 0.1, max_depth = 5, n_estimators = 100, random_state = 0)",
      "execution_count": null,
      "outputs": []
    },
    {
      "metadata": {
        "_uuid": "aeb5b3f3071dedaa8748d89ca4564b4c2d09df71",
        "_cell_guid": "278a5745-e951-4365-a004-5707d45daba1",
        "trusted": false,
        "collapsed": true
      },
      "cell_type": "code",
      "source": "params = {'n_neighbors':[3, 5, 10, 20], 'leaf_size':[20, 30, 50], 'p':[1, 2, 5], 'weights':['uniform', 'distance']}\nknc = KNeighborsClassifier()\nclf = GridSearchCV(knc, param_grid = params, scoring = accuracy_scorer, cv = 5, n_jobs = -1)\nclf.fit(X_train, y_train)\nprint('Best score: {}'.format(clf.best_score_))\nprint('Best parameters: {}'.format(clf.best_params_))\n\nknc_best = KNeighborsClassifier(n_neighbors = 10)",
      "execution_count": null,
      "outputs": []
    },
    {
      "metadata": {
        "_uuid": "333c68f993d195a2210e200806255ff3805eb6c7",
        "_cell_guid": "8cb67317-0398-4271-95e6-5cba518c8046",
        "trusted": false,
        "collapsed": true
      },
      "cell_type": "code",
      "source": "params = {'penalty':['l1', 'l2'], 'C':[1, 2, 3, 5, 10]}\nlr = LogisticRegression(random_state = 0)\nclf = GridSearchCV(lr, param_grid = params, scoring = accuracy_scorer, cv = 5, n_jobs = -1)\nclf.fit(X_train, y_train)\nprint('Best score: {}'.format(clf.best_score_))\nprint('Best parameters: {}'.format(clf.best_params_))\n\nlr_best = LogisticRegression(penalty = 'l1', C = 1, random_state = 0)",
      "execution_count": null,
      "outputs": []
    },
    {
      "metadata": {
        "_uuid": "29084ecf0f2a3469f4185ebfdad53875dbfe7f0d",
        "_cell_guid": "9ef14503-6969-4773-81a3-89526e30e340",
        "trusted": false,
        "collapsed": true
      },
      "cell_type": "code",
      "source": "params = {'kernel':['linear', 'rbf'], 'C':[1, 3, 5, 10], 'degree':[3, 5, 10]}\nsvc = SVC(probability = True, random_state = 0)\nclf = GridSearchCV(svc, param_grid = params, scoring = accuracy_scorer, cv = 5, n_jobs = -1)\nclf.fit(X_train, y_train)\nprint('Best score: {}'.format(clf.best_score_))\nprint('Best parameters: {}'.format(clf.best_params_))\n\nsvc_best = SVC(C = 10, degree = 3, kernel = 'linear', probability = True, random_state = 0)",
      "execution_count": null,
      "outputs": []
    },
    {
      "metadata": {
        "_uuid": "c2a55fc95ada268eab95ada6bae9fa1f2955db0d",
        "_cell_guid": "37f13290-296d-4b8a-bc30-01503338f564",
        "trusted": false,
        "collapsed": true
      },
      "cell_type": "code",
      "source": "voting_clf = VotingClassifier(estimators=[('rf', rf_best), ('bag', bag_best), ('gbc', gbc_best), ('lr', lr_best), ('svc', svc_best)]\n                              , voting='hard')\nvoting_clf.fit(X_train, y_train)\ny_pred = voting_clf.predict(X_test)\nprint(\"\\nAccuracy Score for VotingClassifier is: \" + str(voting_clf.score(X_train, y_train)))",
      "execution_count": null,
      "outputs": []
    },
    {
      "metadata": {
        "_uuid": "ef2d8021f9e9ba509572cdfee3c48e4566dcbd7a",
        "collapsed": true,
        "_cell_guid": "9ce19c3d-079b-437a-ab8c-620455d4c6c9",
        "trusted": false
      },
      "cell_type": "code",
      "source": "submission = pd.DataFrame({'id':test_data_orig['id'], 'type':y_pred})\nsubmission.to_csv('../working/submission.csv', index=False)",
      "execution_count": null,
      "outputs": []
    },
    {
      "metadata": {
        "_uuid": "1019d48cf71c4b0b34bc0d0290b6a17e099ef867",
        "_cell_guid": "4473109b-2804-4416-ab61-eaf77488abaf"
      },
      "cell_type": "markdown",
      "source": "The above code gets a LB score of 0.73345."
    }
  ],
  "metadata": {
    "kernelspec": {
      "display_name": "Python 3",
      "language": "python",
      "name": "python3"
    },
    "language_info": {
      "pygments_lexer": "ipython3",
      "name": "python",
      "mimetype": "text/x-python",
      "nbconvert_exporter": "python",
      "file_extension": ".py",
      "codemirror_mode": {
        "name": "ipython",
        "version": 3
      },
      "version": "3.6.4"
    }
  },
  "nbformat": 4,
  "nbformat_minor": 1
}
{
  "cells": [
    {
      "metadata": {
        "_cell_guid": "efbf0f84-b48f-447f-85df-0b5c380cc07d",
        "collapsed": true,
        "_uuid": "9773733416298690c0ca8a55da854647bf4ea1fb",
        "trusted": false
      },
      "cell_type": "code",
      "source": "### Import required libraries\n\nimport numpy as np\nimport pandas as pd\n\nimport matplotlib.pyplot as plt\nimport seaborn as sns\n%matplotlib inline\n\nfrom sklearn import ensemble\nfrom sklearn import model_selection\nfrom sklearn.linear_model import ElasticNetCV\nfrom sklearn.linear_model import LassoCV\nfrom sklearn.model_selection import GridSearchCV\n\nfrom sklearn.metrics import make_scorer, mean_squared_error\n\nfrom sklearn.model_selection import cross_val_score\nfrom sklearn.preprocessing import RobustScaler\n\nfrom IPython.display import display # Allows the use of display() for DataFrames\n\nimport warnings\nwarnings.filterwarnings('ignore')",
      "execution_count": null,
      "outputs": []
    },
    {
      "metadata": {
        "_cell_guid": "0e4e6b68-deb6-45e0-a680-feb21afcc6b8",
        "collapsed": true,
        "_uuid": "9e187ca4c95040533c15cf3d48eb6e8b983b202a",
        "trusted": false
      },
      "cell_type": "code",
      "source": "#### Routine to Fill Basic Missing Data - Regressor\ndef fill_missing_data_basic_reg(X_train, y_train, X_test):\n    rf_reg_est = ensemble.RandomForestRegressor(random_state = 42)\n    rf_reg_est.fit(X_train, y_train)\n    y_test = rf_reg_est.predict(X_test)\n    \n    return y_test\n\n#### Routine to Fill Basic Missing Data - Classifier\ndef fill_missing_data_basic_class(X_train, y_train, X_test):\n    rf_class_est = ensemble.RandomForestClassifier(random_state = 42)\n    rf_class_est.fit(X_train, y_train)\n    y_test = rf_class_est.predict(X_test)\n    \n    return y_test",
      "execution_count": null,
      "outputs": []
    },
    {
      "metadata": {
        "_cell_guid": "502b067c-5563-483a-9761-f4e0f9dfa782",
        "collapsed": true,
        "_uuid": "a2697ad078f20c50bb535633c82f03e666991dbb",
        "trusted": false
      },
      "cell_type": "code",
      "source": "### Read Train and Test Data\n\ntrain_df = pd.read_csv(\"../input/train.csv\")\ntest_df = pd.read_csv(\"../input/test.csv\")",
      "execution_count": null,
      "outputs": []
    },
    {
      "metadata": {
        "_cell_guid": "5283b096-b0da-47e9-b975-6a29039e5c48",
        "collapsed": true,
        "_uuid": "0ff14f86dba04023ba1aa2b4f4480506007f782f",
        "trusted": false
      },
      "cell_type": "code",
      "source": "### Analyse Train Data\n\nprint(\"Shape of Train Data -> \".format(train_df.shape))\ntrain_df.info()\ntrain_df.head()",
      "execution_count": null,
      "outputs": []
    },
    {
      "metadata": {
        "_cell_guid": "fe141e8c-4c6f-4a68-8508-ce1569cf19fd",
        "collapsed": true,
        "_uuid": "46ccd681e59ee3e412fd3edf40f7c228234c1123",
        "trusted": false
      },
      "cell_type": "code",
      "source": "train_df.describe()",
      "execution_count": null,
      "outputs": []
    },
    {
      "metadata": {
        "_cell_guid": "eacab82f-03ab-42f6-8be4-6385fe74cdf0",
        "collapsed": true,
        "_uuid": "a050fea5955f14782f893e5a7118f7e3a75dc1e1",
        "trusted": false
      },
      "cell_type": "code",
      "source": "#### Check if there are any NULL values in Train Data\nprint(\"Total Train Features with NaN Values = \" + str(train_df.columns[train_df.isnull().sum() != 0].size))\nprint(\"Features with NaN => {}\".format(list(train_df.columns[train_df.isnull().sum() != 0])))\ntrain_df[train_df.columns[train_df.isnull().sum() != 0]].isnull().sum().sort_values(ascending = False)",
      "execution_count": null,
      "outputs": []
    },
    {
      "metadata": {
        "_cell_guid": "caab4681-acdb-412d-89bd-16beff06c4d1",
        "collapsed": true,
        "_uuid": "4345d82b02f6dd6dc1771c13b440dec3d707ddd5",
        "trusted": false
      },
      "cell_type": "code",
      "source": "### Analyse Test Data\n\nprint(\"Shape of Test Data -> \" + str(test_df.shape))\ntest_df.info()\ntest_df.head()",
      "execution_count": null,
      "outputs": []
    },
    {
      "metadata": {
        "_cell_guid": "f563a1ed-4b39-45b7-9cc7-5b783cff08ab",
        "collapsed": true,
        "_uuid": "2a366fc44af8a5ba741d423636e54446eaf4738c",
        "trusted": false
      },
      "cell_type": "code",
      "source": "test_df.describe()",
      "execution_count": null,
      "outputs": []
    },
    {
      "metadata": {
        "_cell_guid": "599c0f82-0f59-46e1-b2fa-ea3abf904ab4",
        "collapsed": true,
        "_uuid": "6e34ff919de326d97a2bee279fbba5b48e519332",
        "trusted": false
      },
      "cell_type": "code",
      "source": "#### Check if there are any NULL values in Test Data\nprint(\"Total Test Features with NaN Values = \" + str(test_df.columns[test_df.isnull().sum() != 0].size))\nprint(\"Features with NaN => {}\".format(list(test_df.columns[test_df.isnull().sum() != 0])))\ntest_df[test_df.columns[test_df.isnull().sum() != 0]].isnull().sum().sort_values(ascending = False)",
      "execution_count": null,
      "outputs": []
    },
    {
      "metadata": {
        "_cell_guid": "16418418-091a-41ec-a4b2-d541a6f0bc16",
        "collapsed": true,
        "_uuid": "92cb39f6723868065046dd5ab3248af78e231005",
        "trusted": false
      },
      "cell_type": "code",
      "source": "### Combine Train and Test Data\ntest_df['SalePrice'] = 0\ncombined_train_test_df = train_df.append(test_df)\n\nprint(\"Shape of Combined Train and Test Data -> \" + str(combined_train_test_df.shape))",
      "execution_count": null,
      "outputs": []
    },
    {
      "metadata": {
        "_cell_guid": "7286aa8d-bd75-435d-9186-45606ce79d58",
        "collapsed": true,
        "_uuid": "2b259faa8a1cad6ffc2a41821801d328aaf57813",
        "trusted": false
      },
      "cell_type": "code",
      "source": "#### Check if there are any NULL values in Train and Test Data Combined\nprint(\"Total Features with NaN Values in Test and Train = \" + str(combined_train_test_df.columns[combined_train_test_df.isnull().sum() != 0].size))\ncombined_train_test_df.columns[combined_train_test_df.isnull().sum() != 0]\nmissing_total = combined_train_test_df[combined_train_test_df.columns[combined_train_test_df.isnull().sum() != 0]].isnull().sum().sort_values(ascending = False)\nmissing_percent = (combined_train_test_df[combined_train_test_df.columns[combined_train_test_df.isnull().sum() != 0]].isnull().sum()/combined_train_test_df.shape[0] * 100).sort_values(ascending = False)",
      "execution_count": null,
      "outputs": []
    },
    {
      "metadata": {
        "_cell_guid": "d00235f3-2363-4fd0-ada1-61e18185d335",
        "collapsed": true,
        "_uuid": "d72d1e19ef1c204f44c244de49029fa027853553",
        "trusted": false
      },
      "cell_type": "code",
      "source": "missing_features = missing_total.index \nmissing_features_tot = pd.concat([missing_total, missing_percent], axis = 1)\nprint(missing_features_tot)",
      "execution_count": null,
      "outputs": []
    },
    {
      "metadata": {
        "_cell_guid": "416d6ea6-3cf8-461d-b201-d5b98e90002a",
        "collapsed": true,
        "_uuid": "792299f41553583f56fd0671471e7feccb5e0bfd",
        "trusted": false
      },
      "cell_type": "code",
      "source": "missing_data_combined_df = combined_train_test_df[combined_train_test_df.columns[combined_train_test_df.isnull().sum() != 0]]\nmissing_data_combined_df.info()\nmissing_data_combined_df.describe()",
      "execution_count": null,
      "outputs": []
    },
    {
      "metadata": {
        "_cell_guid": "552a9cd7-e30c-48f3-8591-0992fcd06da9",
        "collapsed": true,
        "_uuid": "f9c4d5cbe4649536b5b82618de063505016fa384",
        "trusted": false
      },
      "cell_type": "code",
      "source": "# Print all the 'Numerical' columns\nprint(\"Numerical Columns -> {}\".format(list(combined_train_test_df.select_dtypes(include=[np.number]).columns)))",
      "execution_count": null,
      "outputs": []
    },
    {
      "metadata": {
        "_cell_guid": "4218d3a1-c5a8-4baa-b4e1-c20017dfd070",
        "collapsed": true,
        "_uuid": "b0ab4dd47306ce79c51059bcdee8e11e679b77d5",
        "trusted": false
      },
      "cell_type": "code",
      "source": "# Print all the 'Categorical' columns\nprint(\"Categorical Columns -> {}\".format(list(combined_train_test_df.select_dtypes(exclude=[np.number]).columns)))",
      "execution_count": null,
      "outputs": []
    },
    {
      "metadata": {
        "_cell_guid": "dff2ff47-b0f3-4333-b52a-7af8ff288a1c",
        "collapsed": true,
        "_uuid": "bd64578acb3bc2c28c1ee5482d46c83a41ab983d",
        "trusted": false
      },
      "cell_type": "code",
      "source": "### Analyze SalePrice\ntrain_df['SalePrice'].describe()",
      "execution_count": null,
      "outputs": []
    },
    {
      "metadata": {
        "_cell_guid": "7ccee1ea-d189-4488-b08f-b435ff7c8a77",
        "collapsed": true,
        "_uuid": "19236320f19d116f3428741d96ccabbb7b3a65e4",
        "trusted": false
      },
      "cell_type": "code",
      "source": "plt.figure(figsize=(12, 6))\n_ = sns.distplot(train_df['SalePrice'])",
      "execution_count": null,
      "outputs": []
    },
    {
      "metadata": {
        "_cell_guid": "0099cda9-cbbe-4aaa-a0ab-4a78df28c5d0",
        "collapsed": true,
        "_uuid": "d929d0e4cbf357e38c3f247d5359f3d7fdbc0bb4",
        "trusted": false
      },
      "cell_type": "code",
      "source": "plt.figure(figsize=(12, 4))\n_ = sns.boxplot(train_df['SalePrice'])",
      "execution_count": null,
      "outputs": []
    },
    {
      "metadata": {
        "_cell_guid": "c10b7943-58fd-4cd9-9d54-b881aa45d503",
        "collapsed": true,
        "_uuid": "9496cf0c3c13a9e7ea4336bcaa10672ec69d5e9e",
        "trusted": false
      },
      "cell_type": "code",
      "source": "train_num_df = train_df.select_dtypes(include=[np.number])\ntrain_num_df = train_num_df.drop(['Id'], axis=1)\n\nfig, axs = plt.subplots(12,3, figsize=(16, 30), facecolor='w', edgecolor='k')\nfig.subplots_adjust(hspace = .5, wspace=.2, right=0.95)\n\naxs = axs.ravel()\n\nfor ind, col in enumerate(train_num_df.columns):\n    if col != 'SalePrice':\n        sns.regplot(train_num_df[col], train_num_df['SalePrice'], ax = axs[ind])\n    \nplt.show()",
      "execution_count": null,
      "outputs": []
    },
    {
      "metadata": {
        "_cell_guid": "da3148e6-8930-4c6a-8fce-35721fbdaafb",
        "collapsed": true,
        "_uuid": "7d4a0b9f27517b1cc29f8ce79d3868731410a437",
        "trusted": false
      },
      "cell_type": "code",
      "source": "train_cat_df = train_df.select_dtypes(exclude=[np.number])\ntrain_cat_df['SalePrice'] = train_df['SalePrice']\n\nfig, axs = plt.subplots(15,3, figsize=(16, 30), facecolor='w', edgecolor='k')\nfig.subplots_adjust(hspace = .5, wspace=.2, right=0.95)\n\naxs = axs.ravel()\n\nfor ind, col in enumerate(train_cat_df.columns):\n    if col != 'SalePrice':\n        sns.barplot(train_cat_df[col], train_cat_df['SalePrice'], ax = axs[ind])\n\nplt.show()",
      "execution_count": null,
      "outputs": []
    },
    {
      "metadata": {
        "_cell_guid": "3159a533-ae2d-45bd-bbe0-ad7d6e96ab3a",
        "collapsed": true,
        "_uuid": "0a3ee9463fa82c1f4bf19c45c2587bf6c3923aee",
        "trusted": false
      },
      "cell_type": "code",
      "source": "# Display the correlation heatmap\ncorr = train_df.drop(['Id'], axis=1).corr()\n\nplt.figure(figsize = (16,10))\nmask = np.zeros_like(corr)\nmask[np.triu_indices_from(mask)] = True\nwith sns.axes_style(\"white\"):\n    ax1 = sns.heatmap(corr, mask=mask)",
      "execution_count": null,
      "outputs": []
    },
    {
      "metadata": {
        "_cell_guid": "ee188585-6ec1-4f29-93ad-3de6616a1b9c",
        "collapsed": true,
        "_uuid": "12e0f423070616c1d2de6a538dd0bbaceeb3a6d0",
        "trusted": false
      },
      "cell_type": "code",
      "source": "corr.sort_values([\"SalePrice\"], ascending = False, inplace = True)\nprint(corr.SalePrice)",
      "execution_count": null,
      "outputs": []
    },
    {
      "metadata": {
        "_cell_guid": "0741cbcf-f5da-49ca-a2bc-3a3ad91869b3",
        "collapsed": true,
        "_uuid": "294e9d588680d094516ed28eea83f9de41592f6b",
        "trusted": false
      },
      "cell_type": "code",
      "source": "#### BsmtUnfSF\nif (combined_train_test_df['BsmtUnfSF'].isnull().sum() != 0):\n    combined_train_test_df['BsmtUnfSF'].fillna(round(combined_train_test_df['BsmtUnfSF'].mean()), inplace = True)",
      "execution_count": null,
      "outputs": []
    },
    {
      "metadata": {
        "_cell_guid": "eec8789c-2f2e-4ce2-b913-7e041de094b8",
        "collapsed": true,
        "_uuid": "e2e0b37d5d4ba35f334bee64d21e2696ece4adf3",
        "trusted": false
      },
      "cell_type": "code",
      "source": "#### BsmtFullBath\nif (combined_train_test_df['BsmtFullBath'].isnull().sum() != 0):\n    combined_train_test_df['BsmtFullBath'].fillna(combined_train_test_df['BsmtFullBath'].mode().iloc[0], inplace = True)",
      "execution_count": null,
      "outputs": []
    },
    {
      "metadata": {
        "_cell_guid": "2b1beae1-7929-4abf-bc8b-2afc6e67dd45",
        "collapsed": true,
        "_uuid": "2410688bcb802480a3288d96a3b135c3d72c730f",
        "trusted": false
      },
      "cell_type": "code",
      "source": "#### BsmtHalfBath\nif (combined_train_test_df['BsmtHalfBath'].isnull().sum() != 0):\n    combined_train_test_df['BsmtHalfBath'].fillna(combined_train_test_df['BsmtHalfBath'].mode().iloc[0], inplace = True)",
      "execution_count": null,
      "outputs": []
    },
    {
      "metadata": {
        "_cell_guid": "604f911f-c4a1-4e51-9e7a-a1d57573eed8",
        "collapsed": true,
        "_uuid": "7de4057ecb52077b37428674bd313b4ca30c75b6",
        "trusted": false
      },
      "cell_type": "code",
      "source": "##### TotalBsmtSF\nif (combined_train_test_df['TotalBsmtSF'].isnull().sum() != 0):\n    combined_train_test_df['TotalBsmtSF'].fillna(round(combined_train_test_df['TotalBsmtSF'].mean()), inplace = True)",
      "execution_count": null,
      "outputs": []
    },
    {
      "metadata": {
        "_cell_guid": "780197e0-e811-4852-be49-2f97ca2d9d08",
        "collapsed": true,
        "_uuid": "fc9cdd09dedea3cf0eae6223ce8e5edfd1069a95",
        "trusted": false
      },
      "cell_type": "code",
      "source": "#### GarageArea\nif (combined_train_test_df['GarageArea'].isnull().sum() != 0):\n    combined_train_test_df['GarageArea'].fillna(round(combined_train_test_df['GarageArea'].mean()), inplace = True)",
      "execution_count": null,
      "outputs": []
    },
    {
      "metadata": {
        "_cell_guid": "92541014-d606-480c-8e8e-a8abf85d6a5e",
        "collapsed": true,
        "_uuid": "378c76be8350ad849e0eec7d374b206de3666142",
        "trusted": false
      },
      "cell_type": "code",
      "source": "#### GarageCars\nif (combined_train_test_df['GarageCars'].isnull().sum() != 0):\n    combined_train_test_df['GarageCars'].fillna(combined_train_test_df['GarageCars'].mode().iloc[0], inplace = True)",
      "execution_count": null,
      "outputs": []
    },
    {
      "metadata": {
        "_cell_guid": "5f2fae43-29c5-49f1-9e6e-e405a05cdd24",
        "collapsed": true,
        "_uuid": "52921188e2c8480f754123d590dacceb350c20e0",
        "trusted": false
      },
      "cell_type": "code",
      "source": "#### KitchenQual\nif (combined_train_test_df['KitchenQual'].isnull().sum() != 0):\n    combined_train_test_df['KitchenQual'].fillna(combined_train_test_df['KitchenQual'].mode().iloc[0], inplace = True)",
      "execution_count": null,
      "outputs": []
    },
    {
      "metadata": {
        "_cell_guid": "fd834098-dec4-44f8-989b-05cfa9d8b127",
        "collapsed": true,
        "_uuid": "5c7bcc62bd24579664166fc834063520655e3610",
        "trusted": false
      },
      "cell_type": "code",
      "source": "#### Electrical\nif (combined_train_test_df['Electrical'].isnull().sum() != 0):\n    combined_train_test_df['Electrical'].fillna(combined_train_test_df['Electrical'].mode().iloc[0], inplace = True)",
      "execution_count": null,
      "outputs": []
    },
    {
      "metadata": {
        "_cell_guid": "b4d3c152-6425-4ff2-80ac-c17eb7550fef",
        "collapsed": true,
        "_uuid": "ac0082d2c6f2d070df01e0cdc5e0517ed91f4f71",
        "trusted": false
      },
      "cell_type": "code",
      "source": "#### BsmtFinSF2\nif (combined_train_test_df['BsmtFinSF2'].isnull().sum() != 0):\n    combined_train_test_df['BsmtFinSF2'].fillna(round(combined_train_test_df['BsmtFinSF2'].mean()), inplace = True)",
      "execution_count": null,
      "outputs": []
    },
    {
      "metadata": {
        "_cell_guid": "e95606e2-9e96-42d2-b979-365f8faab4a3",
        "collapsed": true,
        "_uuid": "39b5f21fdb2ce1af67063f447eb233c4809bf32f",
        "trusted": false
      },
      "cell_type": "code",
      "source": "#### BsmtFinSF1\nif (combined_train_test_df['BsmtFinSF1'].isnull().sum() != 0):\n    combined_train_test_df['BsmtFinSF1'].fillna(round(combined_train_test_df['BsmtFinSF1'].mean()), inplace = True)",
      "execution_count": null,
      "outputs": []
    },
    {
      "metadata": {
        "_cell_guid": "f657f328-a5d5-48a7-9928-942de86db33a",
        "collapsed": true,
        "_uuid": "f0f15a1ac8571880ba14c840fc125883f3fa026a",
        "trusted": false
      },
      "cell_type": "code",
      "source": "#### SaleType\nif (combined_train_test_df['SaleType'].isnull().sum() != 0):\n    combined_train_test_df['SaleType'].fillna(combined_train_test_df['SaleType'].mode().iloc[0], inplace = True)",
      "execution_count": null,
      "outputs": []
    },
    {
      "metadata": {
        "_cell_guid": "efa22104-cab4-4523-bf23-3502ec6f5bbb",
        "collapsed": true,
        "_uuid": "b4fabc89cb30633505e99e75b5ae030e8fafcf0d",
        "trusted": false
      },
      "cell_type": "code",
      "source": "#### Exterior1st\nif (combined_train_test_df['Exterior1st'].isnull().sum() != 0):\n    combined_train_test_df['Exterior1st'].fillna(combined_train_test_df['Exterior1st'].mode().iloc[0], inplace = True)",
      "execution_count": null,
      "outputs": []
    },
    {
      "metadata": {
        "_cell_guid": "49624901-ecc4-4b55-971d-4699b536fde9",
        "collapsed": true,
        "_uuid": "6c6b683e12248c69011773769b3da512da278701",
        "trusted": false
      },
      "cell_type": "code",
      "source": "#### Exterior2nd\nif (combined_train_test_df['Exterior2nd'].isnull().sum() != 0):\n    combined_train_test_df['Exterior2nd'].fillna(combined_train_test_df['Exterior2nd'].mode().iloc[0], inplace = True)",
      "execution_count": null,
      "outputs": []
    },
    {
      "metadata": {
        "_cell_guid": "cd132b19-de49-41f6-9e0d-c657d07269ec",
        "collapsed": true,
        "_uuid": "60704a31d4ff31db0035089848017058f47a835d",
        "trusted": false
      },
      "cell_type": "code",
      "source": "#### Functional\nif (combined_train_test_df['Functional'].isnull().sum() != 0):\n    combined_train_test_df['Functional'].fillna(combined_train_test_df['Functional'].mode().iloc[0], inplace = True)",
      "execution_count": null,
      "outputs": []
    },
    {
      "metadata": {
        "_cell_guid": "3f6abeaa-51df-46ef-b73f-a1c153e93ab9",
        "collapsed": true,
        "_uuid": "9c7d17f817d6dc1e14c5b2121a45596a5da4edcf",
        "trusted": false
      },
      "cell_type": "code",
      "source": "#### Utilities\nif (combined_train_test_df['Utilities'].isnull().sum() != 0):\n    combined_train_test_df['Utilities'].fillna(combined_train_test_df['Utilities'].mode().iloc[0], inplace = True)",
      "execution_count": null,
      "outputs": []
    },
    {
      "metadata": {
        "_cell_guid": "0c32bf32-46c6-49ae-b67f-750191e03e35",
        "collapsed": true,
        "_uuid": "8a4a85b48e2e83b0ffdfa50eb039d38bdd10e8f8",
        "trusted": false
      },
      "cell_type": "code",
      "source": "#### MSZoning\nif (combined_train_test_df['MSZoning'].isnull().sum() != 0):\n    combined_train_test_df['MSZoning'].fillna(combined_train_test_df['MSZoning'].mode().iloc[0], inplace = True)",
      "execution_count": null,
      "outputs": []
    },
    {
      "metadata": {
        "_cell_guid": "68d06a85-e2b9-4238-9425-b3af790e19d8",
        "collapsed": true,
        "_uuid": "b6921efea28ebf02b94ae71c9508cb490c77fb2c",
        "trusted": false
      },
      "cell_type": "code",
      "source": "#### MasVnrArea\nif (combined_train_test_df['MasVnrArea'].isnull().sum() != 0):\n    combined_train_test_df['MasVnrArea'].fillna(0, inplace = True)",
      "execution_count": null,
      "outputs": []
    },
    {
      "metadata": {
        "_cell_guid": "1b5de0ee-8581-47fd-9325-abed41e026ec",
        "collapsed": true,
        "_uuid": "e4f6d9ab63d40e9795b15adbc49045b2847286bc",
        "trusted": false
      },
      "cell_type": "code",
      "source": "#### MasVnrType\nif (combined_train_test_df['MasVnrType'].isnull().sum() != 0):\n    combined_train_test_df['MasVnrType'].fillna('None', inplace = True)",
      "execution_count": null,
      "outputs": []
    },
    {
      "metadata": {
        "_cell_guid": "767262bb-5d3a-4958-8e51-75d7d2c47cb0",
        "collapsed": true,
        "_uuid": "707c5733b2538bb485fe6e966206fc9c5a125395",
        "trusted": false
      },
      "cell_type": "code",
      "source": "#### BsmtCond\nif (combined_train_test_df['BsmtCond'].isnull().sum() != 0):\n    combined_train_test_df['BsmtCond'].fillna(combined_train_test_df['BsmtCond'].mode().iloc[0], inplace = True)",
      "execution_count": null,
      "outputs": []
    },
    {
      "metadata": {
        "_cell_guid": "794c5a04-b5b2-4884-a4dc-a113f3a7804f",
        "collapsed": true,
        "_uuid": "d5fcec59be59aee4ded977ee18d318d1f5239342",
        "trusted": false
      },
      "cell_type": "code",
      "source": "#### BsmtExposure\nif (combined_train_test_df['BsmtExposure'].isnull().sum() != 0):\n    combined_train_test_df['BsmtExposure'].fillna(combined_train_test_df['BsmtExposure'].mode().iloc[0], inplace = True)",
      "execution_count": null,
      "outputs": []
    },
    {
      "metadata": {
        "_cell_guid": "9316f0a8-c616-4e06-ba8f-9f65f94ea2e5",
        "collapsed": true,
        "_uuid": "8af836fa0bdc6ceb43fa4e27c46b5349954cfba7",
        "trusted": false
      },
      "cell_type": "code",
      "source": "#### BsmtQual\nif (combined_train_test_df['BsmtQual'].isnull().sum() != 0):\n    combined_train_test_df['BsmtQual'].fillna(combined_train_test_df['BsmtQual'].mode().iloc[0], inplace = True)",
      "execution_count": null,
      "outputs": []
    },
    {
      "metadata": {
        "_cell_guid": "b4071758-752e-4a9d-8730-38def35ab4bb",
        "collapsed": true,
        "_uuid": "ac278c1e785415e56877619658e56b2c31938fdd",
        "trusted": false
      },
      "cell_type": "code",
      "source": "#### BsmtFinType1\nif (combined_train_test_df['BsmtFinType1'].isnull().sum() != 0):\n    combined_train_test_df['BsmtFinType1'].fillna(combined_train_test_df['BsmtFinType1'].mode().iloc[0], inplace = True)",
      "execution_count": null,
      "outputs": []
    },
    {
      "metadata": {
        "_cell_guid": "a2ffd699-73ba-4cdf-b7b8-eb472f480d55",
        "collapsed": true,
        "_uuid": "100c9b73559d7f5e9107ef5bce5c59477b409600",
        "trusted": false
      },
      "cell_type": "code",
      "source": "#### BsmtFinType2\nif (combined_train_test_df['BsmtFinType2'].isnull().sum() != 0):\n    combined_train_test_df['BsmtFinType2'].fillna(combined_train_test_df['BsmtFinType2'].mode().iloc[0], inplace = True)",
      "execution_count": null,
      "outputs": []
    },
    {
      "metadata": {
        "_cell_guid": "06110848-fac1-4f42-bcd9-66b8b2d1ed69",
        "collapsed": true,
        "_uuid": "4fadd0e87a6b8071a8ffb3d627a7b1ce28ce4ad5",
        "trusted": false
      },
      "cell_type": "code",
      "source": "#### GarageType\nif (combined_train_test_df['GarageType'].isnull().sum() != 0):\n    combined_train_test_df['GarageType'].fillna(combined_train_test_df['GarageType'].mode().iloc[0], inplace = True)",
      "execution_count": null,
      "outputs": []
    },
    {
      "metadata": {
        "_cell_guid": "b727a821-b356-41b2-9575-7df0a107bc9f",
        "collapsed": true,
        "_uuid": "1e16cfb0fc8d9e4b4b4b2938ac6a82157b3f7599",
        "trusted": false
      },
      "cell_type": "code",
      "source": "#### GarageCond\nif (combined_train_test_df['GarageCond'].isnull().sum() != 0):\n    combined_train_test_df['GarageCond'].fillna(combined_train_test_df['GarageCond'].mode().iloc[0], inplace = True)",
      "execution_count": null,
      "outputs": []
    },
    {
      "metadata": {
        "_cell_guid": "59a6689b-5fe6-4cc7-898e-38de6b245aff",
        "collapsed": true,
        "_uuid": "bf3a6e21ff4b1310e0db5782021daef93923559f",
        "trusted": false
      },
      "cell_type": "code",
      "source": "#### GarageQual\nif (combined_train_test_df['GarageQual'].isnull().sum() != 0):\n    combined_train_test_df['GarageQual'].fillna(combined_train_test_df['GarageQual'].mode().iloc[0], inplace = True)",
      "execution_count": null,
      "outputs": []
    },
    {
      "metadata": {
        "_cell_guid": "b8f8c760-4816-40e4-b66f-af489c64add6",
        "collapsed": true,
        "_uuid": "559b8a137d4edc83c6222b5135cfd5166a956e62",
        "trusted": false
      },
      "cell_type": "code",
      "source": "#### GarageFinish\nif (combined_train_test_df['GarageFinish'].isnull().sum() != 0):\n    combined_train_test_df['GarageFinish'].fillna(combined_train_test_df['GarageFinish'].mode().iloc[0], inplace = True)",
      "execution_count": null,
      "outputs": []
    },
    {
      "metadata": {
        "_cell_guid": "d25fd358-90ed-43cd-a13f-e5f3b30284ba",
        "collapsed": true,
        "_uuid": "4075701431b667f08ceb931fa202a03489e6bdfd",
        "trusted": false
      },
      "cell_type": "code",
      "source": "#### GarageYrBlt\nif (combined_train_test_df['GarageYrBlt'].isnull().sum() != 0):\n    combined_train_test_df['GarageYrBlt'].fillna(combined_train_test_df['YearBuilt'], inplace = True)",
      "execution_count": null,
      "outputs": []
    },
    {
      "metadata": {
        "_cell_guid": "c920e3f9-15fb-4e86-b1c5-878d38c1cb2a",
        "collapsed": true,
        "_uuid": "efa31c57e82eb9c4ce76f3c4164bd12b7f56bc1d",
        "trusted": false
      },
      "cell_type": "code",
      "source": "#### LotFrontage\nif (combined_train_test_df['LotFrontage'].isnull().sum() != 0):\n    df_LF_LA = combined_train_test_df[['LotFrontage', 'LotArea']]\n    X_train_LF_LA = df_LF_LA[df_LF_LA['LotFrontage'].notnull()].drop(labels = ('LotFrontage'), axis = 1)\n    y_train_LF_LA = df_LF_LA[df_LF_LA['LotFrontage'].notnull()].drop(labels = ['LotArea'], axis = 1)\n    \n    X_test_LF_LA = df_LF_LA[df_LF_LA['LotFrontage'].isnull()].drop(['LotFrontage'], axis = 1)\n    y_test_LF_LA = fill_missing_data_basic_reg(X_train_LF_LA, y_train_LF_LA, X_test_LF_LA)\n    \n    combined_train_test_df.loc[(combined_train_test_df.LotFrontage.isnull()), 'LotFrontage'] = y_test_LF_LA",
      "execution_count": null,
      "outputs": []
    },
    {
      "metadata": {
        "_cell_guid": "99ca4193-6ece-403c-8e7e-f7edb2d7a145",
        "collapsed": true,
        "_uuid": "f8e257db2e54d2f7a17e47fb3a635f4fefbdc2b0",
        "trusted": false
      },
      "cell_type": "code",
      "source": "#### FireplaceQu\nif (combined_train_test_df['FireplaceQu'].isnull().sum().sum() != 0):\n    combined_train_test_df['FireplaceQu'] = combined_train_test_df['FireplaceQu'].fillna('NoFirePlace')",
      "execution_count": null,
      "outputs": []
    },
    {
      "metadata": {
        "_cell_guid": "c514f144-8787-47c5-918b-ebaf8268e17f",
        "collapsed": true,
        "_uuid": "5aa62545d942384ba3f742b81dcd82bbd4afc80a",
        "trusted": false
      },
      "cell_type": "code",
      "source": "#### Fence\nif (combined_train_test_df['Fence'].isnull().sum().sum() != 0):\n    combined_train_test_df['Fence'] = combined_train_test_df['Fence'].fillna('NoFence')",
      "execution_count": null,
      "outputs": []
    },
    {
      "metadata": {
        "_cell_guid": "19aa3d9b-7d7b-43d6-8801-10eeb27bfcda",
        "collapsed": true,
        "_uuid": "5556782fd1331e5716f14df9e86eed21f54bbc36",
        "trusted": false
      },
      "cell_type": "code",
      "source": "#### Alley\nif (combined_train_test_df['Alley'].isnull().sum().sum() != 0):\n    combined_train_test_df['Alley'] = combined_train_test_df['Alley'].fillna('NoAlley')",
      "execution_count": null,
      "outputs": []
    },
    {
      "metadata": {
        "_cell_guid": "da239d7f-8960-40be-a096-03d8dd05c987",
        "collapsed": true,
        "_uuid": "6e638b71983d0005caafc03c2e147bea082413e9",
        "trusted": false
      },
      "cell_type": "code",
      "source": "#### MiscFeature\nif (combined_train_test_df['MiscFeature'].isnull().sum().sum() != 0):\n    combined_train_test_df['MiscFeature'] = combined_train_test_df['MiscFeature'].fillna('NoMiscFeature')",
      "execution_count": null,
      "outputs": []
    },
    {
      "metadata": {
        "_cell_guid": "29282285-e426-4fa3-a0b3-c31ac623c83f",
        "collapsed": true,
        "_uuid": "c93c0a68f7770e3ef0139fb5d01bd262301fa716",
        "trusted": false
      },
      "cell_type": "code",
      "source": "#### PoolQC\nif (combined_train_test_df['PoolQC'].isnull().sum().sum() != 0):\n    combined_train_test_df['PoolQC'] = combined_train_test_df['PoolQC'].fillna('NoPoolQC')",
      "execution_count": null,
      "outputs": []
    },
    {
      "metadata": {
        "_cell_guid": "8b59bfca-50b5-4348-b3ce-2dc5c4c4b52c",
        "collapsed": true,
        "_uuid": "9f7e2e8565090e509c7725c4579b60faa4687150",
        "trusted": false
      },
      "cell_type": "code",
      "source": "assert (combined_train_test_df.columns[combined_train_test_df.isnull().sum() != 0].size == 0)\nprint(\"Total Features with NaN in Test and Train After Imputation = \" + str(combined_train_test_df.columns[combined_train_test_df.isnull().sum() != 0].size))",
      "execution_count": null,
      "outputs": []
    },
    {
      "metadata": {
        "_cell_guid": "0dd943a4-3444-4d89-b4a4-0039a633da39",
        "collapsed": true,
        "_uuid": "c85782405f947491c6e6a6a7f133d2b6ecba11b8",
        "trusted": false
      },
      "cell_type": "code",
      "source": "category_cols = ['MSSubClass', 'MSZoning', 'Street', 'Alley', 'LotShape', 'LandContour', 'Utilities', 'LotConfig', 'LandSlope', 'Neighborhood', 'Condition1', 'Condition2', 'BldgType', 'HouseStyle', 'OverallQual', 'OverallCond', 'RoofStyle', 'RoofMatl', 'Exterior1st', 'Exterior2nd', 'MasVnrType', 'ExterQual', 'ExterCond', 'Foundation', 'BsmtQual', 'BsmtCond', 'BsmtExposure', 'BsmtFinType1', 'BsmtFinType2', 'Heating', 'HeatingQC', 'CentralAir', 'Electrical', 'BsmtFullBath', 'BsmtHalfBath', 'FullBath', 'HalfBath', 'BedroomAbvGr', 'KitchenAbvGr', 'KitchenQual', 'TotRmsAbvGrd', 'Functional', 'Fireplaces', 'FireplaceQu', 'GarageType', 'GarageFinish', 'GarageCars', 'GarageQual', 'GarageCond', 'PavedDrive', 'PoolQC', 'Fence', 'MiscFeature', 'SaleType', 'SaleCondition']\ncontinuos_cols = ['LotFrontage', 'LotArea', 'YearBuilt', 'YearRemodAdd', 'MasVnrArea', 'BsmtFinSF1', 'BsmtFinSF2', 'BsmtUnfSF', 'TotalBsmtSF', '1stFlrSF', '2ndFlrSF', 'LowQualFinSF', 'GrLivArea', 'GarageYrBlt', 'GarageArea', 'WoodDeckSF', 'OpenPorchSF', 'EnclosedPorch', '3SsnPorch', 'ScreenPorch', 'PoolArea', 'MiscVal', 'MoSold', 'YrSold', 'SalePrice']",
      "execution_count": null,
      "outputs": []
    },
    {
      "metadata": {
        "_cell_guid": "d9a6c817-9dc7-4abe-9132-73a91c22d12a",
        "collapsed": true,
        "_uuid": "0e1995c2e285dbc45eabe83ff35f9e8565eccac9",
        "trusted": false
      },
      "cell_type": "code",
      "source": "# log Transformation\ncmb_log_df = combined_train_test_df.select_dtypes(include=[np.number])\ncmb_log_df = cmb_log_df.drop(['Id', 'SalePrice'], axis=1)\n\nfor col in cmb_log_df.columns:\n    cmb_log_df[col] = np.log1p(cmb_log_df[col])",
      "execution_count": null,
      "outputs": []
    },
    {
      "metadata": {
        "_cell_guid": "d9e7a1b0-c79c-40f3-b919-8270431b7ac5",
        "collapsed": true,
        "_uuid": "c55f167eddefcdc72f703bd298f9255038a7106c",
        "trusted": false
      },
      "cell_type": "code",
      "source": "# Normalize data\nrob_sca = RobustScaler()\nrob_sca.fit(cmb_log_df)\ncmb_sca_df = pd.DataFrame(rob_sca.transform(cmb_log_df), index=cmb_log_df.index, columns=cmb_log_df.columns)",
      "execution_count": null,
      "outputs": []
    },
    {
      "metadata": {
        "_cell_guid": "7d5e4b26-8069-4790-a3fb-58a9dd8d1e3c",
        "collapsed": true,
        "_uuid": "dfbe7a14180a2ab603fd5b103282ae3d48935fd4",
        "trusted": false
      },
      "cell_type": "code",
      "source": "category_cols_dummies_df = pd.get_dummies(combined_train_test_df[category_cols])\ncmb_sca_df = pd.concat([cmb_sca_df, category_cols_dummies_df], axis = 1)",
      "execution_count": null,
      "outputs": []
    },
    {
      "metadata": {
        "_cell_guid": "fb4b0e64-51b3-47d5-be53-e870f45a30b7",
        "collapsed": true,
        "_uuid": "9b67ced2f97c8755712c4a54a3d9a7a0ea5e2a9d",
        "trusted": false
      },
      "cell_type": "code",
      "source": "#### Divide the Train and Test data\ntrain_data = cmb_sca_df[:1460]\ntest_data = cmb_sca_df[1460:]",
      "execution_count": null,
      "outputs": []
    },
    {
      "metadata": {
        "_cell_guid": "7c874271-ebcc-4ae0-bda4-ddaf7cf09214",
        "collapsed": true,
        "_uuid": "37d2d59564f1059d554b73b2b738091fd43c7b24",
        "trusted": false
      },
      "cell_type": "code",
      "source": "# SalePrice\ntrain_data['SalePrice'] = np.log1p(train_df['SalePrice'])",
      "execution_count": null,
      "outputs": []
    },
    {
      "metadata": {
        "_cell_guid": "aaea438b-ed6a-45dc-bbbf-6c0ef54d6bd1",
        "collapsed": true,
        "_uuid": "75bb762b2b0b4bc0fbb8057582d807f4b2821e10",
        "trusted": false
      },
      "cell_type": "code",
      "source": "train_data_X = train_data.drop(['SalePrice'], axis = 1)\ntrain_data_y = train_data['SalePrice']\n\ntest_data_X = test_data",
      "execution_count": null,
      "outputs": []
    },
    {
      "metadata": {
        "_cell_guid": "3fc52475-b2e9-4438-ac3b-746a401b26ec",
        "collapsed": true,
        "_uuid": "2bb5fe12560261995c6b7143c198d9e4d9ab7a72",
        "trusted": false
      },
      "cell_type": "code",
      "source": "# RMSE\ndef RMSE(estimator,X_train, Y_train, cv=5,n_jobs=4):\n    cv_results = cross_val_score(estimator,X_train,Y_train,cv=cv,scoring=\"neg_mean_squared_error\",n_jobs=n_jobs)\n    return (np.sqrt(-cv_results)).mean()",
      "execution_count": null,
      "outputs": []
    },
    {
      "metadata": {
        "_cell_guid": "4a8c082a-903c-4b3a-a95e-4fa015470332",
        "collapsed": true,
        "_uuid": "ba8676a2807f4a1a8134cc034a18b90cdd1cad71",
        "trusted": false
      },
      "cell_type": "code",
      "source": "clf = LassoCV(random_state=42)\nclf.fit(train_data_X, train_data_y)",
      "execution_count": null,
      "outputs": []
    },
    {
      "metadata": {
        "_cell_guid": "f296699e-1853-4a81-82fd-fb07d21aa9c3",
        "collapsed": true,
        "_uuid": "066d4f63b96507e5e7f1e25ce26886428a760332",
        "trusted": false
      },
      "cell_type": "code",
      "source": "#### Predict the output\ndf_pred = pd.DataFrame()\ndf_pred['SalePrice'] = clf.predict(test_data_X)\ndf_pred['SalePrice'] = np.expm1(df_pred['SalePrice'])\n\ntest_data_X['SalePrice'] = df_pred[['SalePrice']]\n\n#### Prepare submission file\nsubmission = pd.DataFrame({'Id': test_df.loc[:, 'Id'],\n                           'SalePrice': test_data_X.loc[:, 'SalePrice']})\nsubmission.to_csv(\"../working/submission.csv\", index = False)",
      "execution_count": null,
      "outputs": []
    }
  ],
  "metadata": {
    "kernelspec": {
      "display_name": "Python 3",
      "language": "python",
      "name": "python3"
    },
    "language_info": {
      "nbconvert_exporter": "python",
      "pygments_lexer": "ipython3",
      "codemirror_mode": {
        "version": 3,
        "name": "ipython"
      },
      "version": "3.6.4",
      "mimetype": "text/x-python",
      "file_extension": ".py",
      "name": "python"
    }
  },
  "nbformat": 4,
  "nbformat_minor": 1
}
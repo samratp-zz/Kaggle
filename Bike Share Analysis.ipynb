{
  "cells": [
    {
      "metadata": {
        "_uuid": "8113c47bba854e44247254848a116d13d2477b56",
        "_cell_guid": "35bf4f6a-e0b9-407a-a8a9-9135d31c2cb0"
      },
      "cell_type": "markdown",
      "source": "# US Bike Share Activity\n\n## Table of Contents\n- [Introduction](#intro)\n- [Posing Questions](#pose_questions)\n- [Data Collection and Wrangling](#wrangling)\n  - [Condensing the Trip Data](#condensing)\n- [Exploratory Data Analysis](#eda)\n  - [Statistics](#statistics)\n  - [Visualizations](#visualizations)\n- [Performing Your Own Analysis](#eda_continued)\n- [Conclusions](#conclusions)\n\n<a id='intro'></a>\n## Introduction\n\n\nOver the past decade, bicycle-sharing systems have been growing in number and popularity in cities across the world. Bicycle-sharing systems allow users to rent bicycles for short trips, typically 30 minutes or less. With the latest technologies, it is easy for a user of the system to access a dock within the system to unlock or return bicycles. These technologies also provide a wealth of data that can be used to explore how these bike-sharing systems are used.\n\nIn this project, we will perform an exploratory analysis on data provided by [Motivate](https://www.motivateco.com/), a bike-share system provider for many major cities in the United States. We will compare the system usage between three large cities: New York City, Chicago, and Washington, DC. We will also see if there are any differences within each system for those users that are registered, regular users and those users that are short-term, casual users."
    },
    {
      "metadata": {
        "_uuid": "86090bd97073eabe79b27ae7fed2812a35b1f327",
        "_cell_guid": "73e9392f-6a25-463c-91e5-94c052bb8940"
      },
      "cell_type": "markdown",
      "source": "<a id='pose_questions'></a>\n## Posing Questions\n\nBefore looking at the bike sharing data, rather any data, we should start by asking questions we might want to understand about the bike share data. Consider, for example, if we were working for Motivate. What kinds of information would we want to know about in order to make smarter business decisions? Also, if we are a user of the bike-share service, what factors might influence how we would want to use the service?\n\nBelow are the questions that could be asked by someone who is working for Motivate:\n\n1. What are the Stations with high usage rate.\n2. What is the average trip duration.\n3. Who are the users with high trip duration.\n4. What is the Age Group of users with high usage.\n5. Stations with high Registered users.\n\nBelow are the questions that could be asked by someone who is using the services of Motivate:\n\n1. Start Station Name with high Trip Duration.\n2. User Types with high Trip Duration.\n3. Popular areas using Station Lat/Long.\n4. Average Age Group of users.\n5. Season with high users."
    },
    {
      "metadata": {
        "_uuid": "0a662ce820899005b0842ddd0976cf8e5365ec7b",
        "_cell_guid": "43cdbf0f-feb4-4509-b8fb-3024f0b93f23"
      },
      "cell_type": "markdown",
      "source": "<a id='wrangling'></a>\n## Data Collection and Wrangling\n\nNow it's time to collect and explore our data. In this project, we will focus on the record of individual trips taken in 2016 from our selected cities: New York City, Chicago, and Washington, DC. Each of these cities has a page where we can freely download the trip data.:\n\n- New York City (Citi Bike): [Link](https://www.citibikenyc.com/system-data)\n- Chicago (Divvy): [Link](https://www.divvybikes.com/system-data)\n- Washington, DC (Capital Bikeshare): [Link](https://www.capitalbikeshare.com/system-data)\n\nIf you visit these pages, you will notice that each city has a different way of delivering its data. Chicago updates with new data twice a year, Washington DC is quarterly, and New York City is monthly. Note that some data wrangling of inconsistencies in timestamp format within each city has already been performed and a random 2% sample of the original data is taken to make the exploration more manageable. However, there is still a lot of data for us to investigate."
    },
    {
      "metadata": {
        "collapsed": true,
        "_cell_guid": "f44e158d-5279-4ec1-9faf-2d984237a482",
        "_uuid": "a11e678b043dd75fc5e9013c6d2e104738c1815b",
        "scrolled": false,
        "trusted": false
      },
      "cell_type": "code",
      "source": "## import all necessary packages and functions.\nimport csv # read and write csv files\nfrom datetime import datetime # operations to parse dates\nfrom pprint import pprint # use to print data structures like dictionaries in\n                          # a nicer way than the base print function.",
      "execution_count": null,
      "outputs": []
    },
    {
      "metadata": {
        "scrolled": false,
        "_cell_guid": "35723e01-7712-489c-ad7d-4eeea553a833",
        "_uuid": "7c851120fa640d6745407ef84d7486f9efacf30d",
        "trusted": false,
        "collapsed": true
      },
      "cell_type": "code",
      "source": "def print_first_point(filename):\n    \"\"\"\n    This function prints and returns the first data point (second row) from\n    a csv file that includes a header row.\n    \"\"\"\n    # print city name for reference\n    city = filename.split('-')[0].split('/')[-1]\n    print('\\nCity: {}'.format(city))\n    \n    with open(filename, 'r') as f_in:\n        ## Use the csv library to set up a DictReader object. ##\n        ## see https://docs.python.org/3/library/csv.html           ##\n        trip_reader = csv.DictReader(f_in)\n        \n        ## Use a function on the DictReader object to read the     ##\n        ## first trip from the data file and store it in a variable.     ##\n        ## see https://docs.python.org/3/library/csv.html#reader-objects ##\n        first_trip = trip_reader.__next__()\n        \n        ## Use the pprint library to print the first trip. ##\n        ## see https://docs.python.org/3/library/pprint.html     ##\n        pprint(first_trip)\n        \n    # output city name and first trip for later testing\n    return (city, first_trip)\n\n# list of files for each city\ndata_files = ['../input/NYC-CitiBike-2016.csv',\n              '../input/Chicago-Divvy-2016.csv',\n              '../input/Washington-CapitalBikeshare-2016.csv',]\n\n# print the first trip from each file, store in dictionary\nexample_trips = {}\nfor data_file in data_files:\n    city, first_trip = print_first_point(data_file)\n    example_trips[city] = first_trip",
      "execution_count": null,
      "outputs": []
    },
    {
      "metadata": {
        "_uuid": "482e24cde5146560f08b5cc62fe627887e73a7c6",
        "_cell_guid": "a8f6661e-e61f-45a9-9d51-a0b9cbf2ef27"
      },
      "cell_type": "markdown",
      "source": "<a id='condensing'></a>\n### Condensing the Trip Data\n\nIt should also be observable from the above printout that each city provides different information. Even where the information is the same, the column names and formats are sometimes different. To make things as simple as possible when we get to the actual exploration, we should trim and clean the data. Cleaning the data makes sure that the data formats across the cities are consistent, while trimming focuses only on the parts of the data we are most interested in to make the exploration easier to work with.\n\nBelow, we will generate new data files with five values of interest for each trip: trip duration, starting month, starting hour, day of the week, and user type. Each of these may require additional wrangling depending on the city:\n\n- **Duration**: This has been given to us in seconds (New York, Chicago) or milliseconds (Washington). A more natural unit of analysis will be if all the trip durations are given in terms of minutes.\n- **Month**, **Hour**, **Day of Week**: Ridership volume is likely to change based on the season, time of day, and whether it is a weekday or weekend. Use the start time of the trip to obtain these values. The New York City data includes the seconds in their timestamps, while Washington and Chicago do not. The [`datetime`](https://docs.python.org/3/library/datetime.html) package will be very useful here to make the needed conversions.\n- **User Type**: It is possible that users who are subscribed to a bike-share system will have different patterns of use compared to users who only have temporary passes. Washington divides its users into two types: 'Registered' for users with annual, monthly, and other longer-term subscriptions, and 'Casual', for users with 24-hour, 3-day, and other short-term passes. The New York and Chicago data uses 'Subscriber' and 'Customer' for these groups, respectively. For consistency, we will convert the Washington labels to match the other two."
    },
    {
      "metadata": {
        "collapsed": true,
        "_cell_guid": "40af48e7-d7e4-45c3-9e5c-b7a0ca45842b",
        "_uuid": "903d478afe894518ba1ff666beeb4fa3f6d312c8",
        "scrolled": false,
        "trusted": false
      },
      "cell_type": "code",
      "source": "def duration_in_mins(datum, city):\n    \"\"\"\n    Takes as input a dictionary containing info about a single trip (datum) and\n    its origin city (city) and returns the trip duration in units of minutes.\n    \n    Remember that Washington is in terms of milliseconds while Chicago and NYC\n    are in terms of seconds. \n    \n    HINT: The csv module reads in all of the data as strings, including numeric\n    values. You will need a function to convert the strings into an appropriate\n    numeric type when making your transformations.\n    see https://docs.python.org/3/library/functions.html\n    \"\"\"\n    \n    if city == 'Washington':\n        # As Washington has the time duration in milliseconds\n        # convert them to Minutes by dividing with 60,000\n        #print(type(datum))\n        #print(datum)\n        #print(datum['Duration (ms)'])\n        duration = (float(datum['Duration (ms)'])/60000)\n    elif city == 'Chicago' or city == 'NYC':\n        # As Chicago and NYC has the time in seconds convert\n        # them to minutes by dividing with 60\n        #print(datum['tripduration'])\n        duration = (float(datum['tripduration'])/60)\n    else:\n        print('Invalid City')\n    \n    return duration\n\n\n# Some tests to check that the code works.\ntests = {'NYC': 13.9833,\n         'Chicago': 15.4333,\n         'Washington': 7.1231}\n\nfor city in tests:\n    assert abs(duration_in_mins(example_trips[city], city) - tests[city]) < .001",
      "execution_count": null,
      "outputs": []
    },
    {
      "metadata": {
        "collapsed": true,
        "_cell_guid": "0a1ade76-a02c-4bdd-9687-f11e1eb14829",
        "_uuid": "6cf75fa4e9c9ff609fad800496227880ec02e9da",
        "scrolled": false,
        "trusted": false
      },
      "cell_type": "code",
      "source": "def time_of_trip(datum, city):\n    \"\"\"\n    Takes as input a dictionary containing info about a single trip (datum) and\n    its origin city (city) and returns the month, hour, and day of the week in\n    which the trip was made.\n    \n    Remember that NYC includes seconds, while Washington and Chicago do not.\n    \n    HINT: You should use the datetime module to parse the original date\n    strings into a format that is useful for extracting the desired information.\n    see https://docs.python.org/3/library/datetime.html#strftime-and-strptime-behavior\n    \"\"\"\n    \n    # strptime(...) is String Parse Time\n    # strftime(...) is String Format Time\n    \n    # Converted 'month' and 'hour' to Integers to remove leading Zero's.\n    \n    if city == 'Washington':\n        # Washington has 'Start date' as '3/31/2016 22:57'\n        # and 'End date' as '3/31/2016 23:04'\n        #print(datum['Start date'])\n        month = int(datetime.strptime(datum['Start date'],\"%m/%d/%Y %H:%M\").strftime('%m'))\n        hour = int(datetime.strptime(datum['Start date'],\"%m/%d/%Y %H:%M\").strftime('%H'))\n        day_of_week = datetime.strptime(datum['Start date'],\"%m/%d/%Y %H:%M\").strftime('%A')\n    elif city == 'Chicago':\n        # Chicago has 'starttime' as '3/31/2016 23:30')\n        # and 'stoptime' as '3/31/2016 23:46'\n        #print(datum['starttime'])\n        month = int(datetime.strptime(datum['starttime'],\"%m/%d/%Y %H:%M\").strftime('%m'))\n        hour = int(datetime.strptime(datum['starttime'],\"%m/%d/%Y %H:%M\").strftime('%H'))\n        day_of_week = datetime.strptime(datum['starttime'],\"%m/%d/%Y %H:%M\").strftime('%A')\n    elif city == 'NYC':\n        # NYC has 'starttime' as '1/1/2016 00:09:55')\n        # and 'stoptime' as '1/1/2016 00:23:54'\n        #print(datum['starttime'])\n        month = int(datetime.strptime(datum['starttime'],\"%m/%d/%Y %H:%M:%S\").strftime('%m'))\n        hour = int(datetime.strptime(datum['starttime'],\"%m/%d/%Y %H:%M:%S\").strftime('%H'))\n        day_of_week = datetime.strptime(datum['starttime'],\"%m/%d/%Y %H:%M:%S\").strftime('%A')\n    else:\n        print('Invalid City')\n    \n    return (month, hour, day_of_week)\n\n\n# Some tests to check that the code works.\ntests = {'NYC': (1, 0, 'Friday'),\n         'Chicago': (3, 23, 'Thursday'),\n         'Washington': (3, 22, 'Thursday')}\n\nfor city in tests:\n    assert time_of_trip(example_trips[city], city) == tests[city]",
      "execution_count": null,
      "outputs": []
    },
    {
      "metadata": {
        "collapsed": true,
        "_cell_guid": "3c296b18-c203-49cb-887a-253aec465e19",
        "_uuid": "2c730b77d2aea47c3f3ca7856e1f37282311f27a",
        "scrolled": false,
        "trusted": false
      },
      "cell_type": "code",
      "source": "def type_of_user(datum, city):\n    \"\"\"\n    Takes as input a dictionary containing info about a single trip (datum) and\n    its origin city (city) and returns the type of system user that made the\n    trip.\n    \n    Remember that Washington has different category names compared to Chicago\n    and NYC. \n    \"\"\"\n    \n    # As Washington has different category names change them\n    # to reflect the categories in NYC and Chicago.\n    if city == 'Washington':\n        if datum['Member Type'] == 'Registered':\n            datum['Member Type'] = 'Subscriber'\n        elif datum['Member Type'] == 'Casual':\n            datum['Member Type'] = 'Customer'\n        else:\n            print(\"Invalid Member Type for Washington\")\n        \n        user_type = datum['Member Type']\n    elif city == 'Chicago' or city == 'NYC':\n        user_type = datum['usertype']\n    else:\n        Print(\"Invalid City\")\n    \n    return user_type\n\n\n# Some tests to check that the code works.\ntests = {'NYC': 'Customer',\n         'Chicago': 'Subscriber',\n         'Washington': 'Subscriber'}\n\nfor city in tests:\n    assert type_of_user(example_trips[city], city) == tests[city]",
      "execution_count": null,
      "outputs": []
    },
    {
      "metadata": {
        "_uuid": "9167f8d2be490dbdaeb657cb47ef09ca42f49d50",
        "_cell_guid": "5ba6a9e2-22a7-46a5-b903-2a4b04697ce8"
      },
      "cell_type": "markdown",
      "source": "Now, we will use the helper functions written above to create a condensed data file for each city consisting only of the data fields indicated above."
    },
    {
      "metadata": {
        "collapsed": true,
        "_cell_guid": "b18c6f48-c8ef-441e-9d42-f196e6175829",
        "_uuid": "878c3c00d97c0cd9667276ee0da447cf5cd89e7c",
        "scrolled": false,
        "trusted": false
      },
      "cell_type": "code",
      "source": "def condense_data(in_file, out_file, city):\n    \"\"\"\n    This function takes full data from the specified input file\n    and writes the condensed data to a specified output file. The city\n    argument determines how the input file will be parsed.\n    \n    HINT: See the cell below to see how the arguments are structured!\n    \"\"\"\n    \n    with open(out_file, 'w') as f_out, open(in_file, 'r') as f_in:\n        # set up csv DictWriter object - writer requires column names for the\n        # first row as the \"fieldnames\" argument\n        out_colnames = ['duration', 'month', 'hour', 'day_of_week', 'user_type']        \n        trip_writer = csv.DictWriter(f_out, fieldnames = out_colnames)\n        trip_writer.writeheader()\n        \n        ## Set up csv DictReader object ##\n        trip_reader = csv.DictReader(f_in)\n\n        # collect data from and process each row\n        for row in trip_reader:\n            # set up a dictionary to hold the values for the cleaned and trimmed\n            # data point\n            new_point = {}\n            #print(type(row))\n            ## Use the helper functions to get the cleaned data from  ##\n            ## the original data dictionaries.                              ##\n            ## Note that the keys for the new_point dictionary should match ##\n            ## the column names set in the DictWriter object above.         ##\n            new_point['duration'] = duration_in_mins(row, city)\n            new_point['month'], new_point['hour'], new_point['day_of_week'] = time_of_trip(row, city)\n            new_point['user_type'] = type_of_user(row, city)\n\n            ## Write the processed information to the output file.     ##\n            ## see https://docs.python.org/3/library/csv.html#writer-objects ##\n            trip_writer.writerow(new_point)\n            \n            ",
      "execution_count": null,
      "outputs": []
    },
    {
      "metadata": {
        "scrolled": false,
        "_cell_guid": "b0fec4e1-4476-443e-94fc-5b8a0dd69b45",
        "_uuid": "0d23b6cdba36f615fa4c484512326db342cbc9dd",
        "trusted": false,
        "collapsed": true
      },
      "cell_type": "code",
      "source": "# Generate summary files for each of the cities\ncity_info = {'Washington': {'in_file': '../input/Washington-CapitalBikeshare-2016.csv',\n                            'out_file': '../working/Washington-2016-Summary.csv'},\n             'Chicago': {'in_file': '../input/Chicago-Divvy-2016.csv',\n                         'out_file': '../working/Chicago-2016-Summary.csv'},\n             'NYC': {'in_file': '../input/NYC-CitiBike-2016.csv',\n                     'out_file': '../working/NYC-2016-Summary.csv'}}\n\nfor city, filenames in city_info.items():\n    condense_data(filenames['in_file'], filenames['out_file'], city)\n    print_first_point(filenames['out_file'])",
      "execution_count": null,
      "outputs": []
    },
    {
      "metadata": {
        "_uuid": "ca1740396d51b7b65fff631ba622c42bc7094ec3",
        "_cell_guid": "97e9d2a3-d396-464f-a6b2-2f8d6c4667dc"
      },
      "cell_type": "markdown",
      "source": "<a id='eda'></a>\n## Exploratory Data Analysis\n\nNow that we have the data collected and wrangled, we are ready to start exploring the data. In this section we will write some code to compute descriptive statistics from the data. We will also be introduced to the `matplotlib` library to create some basic histograms of the data.\n\n<a id='statistics'></a>\n### Statistics\n\nFirst, let's compute some basic counts. The first cell below contains a function that uses the csv module to iterate through a provided data file, returning the number of trips made by subscribers and customers.\n\nWe will try to answer some of the below questions:\n\nWhich city has the highest number of trips? Which city has the highest proportion of trips made by subscribers? Which city has the highest proportion of trips made by short-term customers?\n\n1. Which city has the highest number of trips? => NYC\n2. Which city has the highest proportion of trips made by subscribers? => NYC\n3. Which city has the highest proportion of trips made by short-term customers? => Chicago"
    },
    {
      "metadata": {
        "collapsed": true,
        "_cell_guid": "1d9ee13e-d8cc-45ea-ae8c-31780c6722a8",
        "_uuid": "0ec252c6013f2975d1c29c5891e03e40125ff09c",
        "scrolled": false,
        "trusted": false
      },
      "cell_type": "code",
      "source": "def number_of_trips(filename):\n    \"\"\"\n    This function reads in a file with trip data and reports the number of\n    trips made by subscribers, customers, and total overall.\n    \"\"\"\n    with open(filename, 'r') as f_in:\n        # set up csv reader object\n        reader = csv.DictReader(f_in)\n        \n        # Initialize the variables\n        n_subscribers = 0\n        n_customers = 0\n        \n        # Count the users based on their type - Subscriber and Customer\n        for row in reader:\n            if row['user_type'] == 'Subscriber':\n                n_subscribers += 1\n            else:\n                n_customers += 1\n        \n        # compute total number of rides\n        n_total = n_subscribers + n_customers\n        \n        # return tallies as a tuple\n        return(n_subscribers, n_customers, n_total)",
      "execution_count": null,
      "outputs": []
    },
    {
      "metadata": {
        "collapsed": true,
        "_cell_guid": "ffacf2f1-ead2-4305-ab0f-cbb8e66ccf89",
        "_uuid": "436fdd61e285b39bf394917c01fa373c82a29e7e",
        "scrolled": false,
        "trusted": false
      },
      "cell_type": "code",
      "source": "# Get Summary files of the three cities\ndata_file_Washington = '../working/Washington-2016-Summary.csv'\ndata_file_Chicago = '../working/Chicago-2016-Summary.csv'\ndata_file_NYC = '../working/NYC-2016-Summary.csv'",
      "execution_count": null,
      "outputs": []
    },
    {
      "metadata": {
        "scrolled": false,
        "_cell_guid": "b4f96fe6-7483-4d3c-aa71-45be69eb8825",
        "_uuid": "b44888bbdf4af5d8f60e533a532009667f4c8374",
        "trusted": false,
        "collapsed": true
      },
      "cell_type": "code",
      "source": "# Create a Dict to store the user count for each city based on the user type\ntrips_data = {'Washington': {'Subscribers':0, 'Customers':0, 'Total':0},\n             'Chicago': {'Subscribers':0, 'Customers':0, 'Total':0},\n             'NYC': {'Subscribers':0, 'Customers':0, 'Total':0}}\n\n# Populate the Dict using the data from each of the three csv files.\ntrips_data['Washington'] = dict(zip(trips_data['Washington'].keys(), number_of_trips(data_file_Washington)))\ntrips_data['Chicago'] = dict(zip(trips_data['Chicago'].keys(), number_of_trips(data_file_Chicago)))\ntrips_data['NYC'] = dict(zip(trips_data['NYC'].keys(), number_of_trips(data_file_NYC)))\n\n# Dict to map each of the cities\ncities_dict = {1:'Washington' , 2:'Chicago' , 3:'NYC' }\nprint(cities_dict)\n\n# Store the total trips detail for each city\ntotal_trips_dict = {1:trips_data['Washington']['Total'],\n                    2:trips_data['Chicago']['Total'],\n                    3:trips_data['NYC']['Total']}\n\n# Find the city with highest number of trips\ncity_high_trips = max(total_trips_dict, key=total_trips_dict.get)\nprint(\"\\nWhich city has the highest number of trips?\" + \" => \" + cities_dict[city_high_trips])\nprint(total_trips_dict)\n\n\n# Find the proportion of trips made by Subscribers\nsubs_prop_dict = {1: trips_data['Washington']['Subscribers']/trips_data['Washington']['Total'],\n                  2: trips_data['Chicago']['Subscribers']/trips_data['Chicago']['Total'],\n                  3: trips_data['NYC']['Subscribers']/trips_data['NYC']['Total']}\n\n# Find the city with highest proportion of trips by Subscribers\ncity_high_prob_subs = max(subs_prop_dict, key=subs_prop_dict.get)\nprint(\"\\nWhich city has the highest proportion of trips made by subscribers?\" + \" => \" + cities_dict[city_high_prob_subs])\nprint(subs_prop_dict)\n\n\n# Find the proportion of trips made by Customers\ncust_prop_dict = {1: trips_data['Washington']['Customers']/trips_data['Washington']['Total'], \n                  2: trips_data['Chicago']['Customers']/trips_data['Chicago']['Total'], \n                  3: trips_data['NYC']['Customers']/trips_data['NYC']['Total']}\n\n# Find the city with highest proportion of trips by Customers\ncity_high_prob_cust = max(cust_prop_dict, key=cust_prop_dict.get)\nprint(\"\\nWhich city has the highest proportion of trips made by short-term customers?\" + \" => \" + cities_dict[city_high_prob_cust])\nprint(cust_prop_dict)",
      "execution_count": null,
      "outputs": []
    },
    {
      "metadata": {
        "_uuid": "4acb63560e63f7ebf89e6c44d38deb22985df96a",
        "_cell_guid": "afadd510-d2f9-421e-8399-efca9fb8eed1"
      },
      "cell_type": "markdown",
      "source": "Bike-share systems are designed for riders to take short trips. Most of the time, users are allowed to take trips of 30 minutes or less with no additional charges, with overage charges made for trips of longer than that duration. We will now try to answer few questions like - What is the average trip length for each city? What proportion of rides made in each city are longer than 30 minutes?\n\nWhat is the average trip length for each city?\n\n1. Average Trip Length of Washington = 18 Minutes\n2. Average Trip Length of Chicago = 16 Minutes\n3. Average Trip Length of NYC = 15 Minutes\n\nWhat proportion of rides made in each city are longer than 30 minutes?\n\n1. Percentage Trips Longer Than 30 Minutes in Washington = 10.84%\n2. Percentage Trips Longer Than 30 Minutes in Chicago = 8.33%\n3. Percentage Trips Longer Than 30 Minutes in NYC = 7.3%"
    },
    {
      "metadata": {
        "collapsed": true,
        "_cell_guid": "d44f1164-9c33-49b4-9d47-228017ec9f6c",
        "_uuid": "3bbafca88eb8b4b3a96845ff7b52b59e27e54d62",
        "scrolled": false,
        "trusted": false
      },
      "cell_type": "code",
      "source": "# Get the total trips for each city\ntotal_trips_washington = total_trips_dict[1]\ntotal_trips_chicago = total_trips_dict[2]\ntotal_trips_nyc = total_trips_dict[3]",
      "execution_count": null,
      "outputs": []
    },
    {
      "metadata": {
        "scrolled": true,
        "_cell_guid": "2b4ff16f-8617-42b2-aa7c-4cb85548aa6b",
        "_uuid": "e530752cafdc1ce2c12ed913f42497908d2984a7",
        "trusted": false,
        "collapsed": true
      },
      "cell_type": "code",
      "source": "def avg_trip_length(filename, city):\n    '''\n        Get the average trip length based on the city filename\n    '''\n    with open(filename, 'r') as f_in:\n        # set up csv reader object\n        reader = csv.DictReader(f_in)\n        \n        # Initialize the variables\n        total_trip_length = 0\n        \n        # Get the total trip length\n        for row in reader:\n            total_trip_length = total_trip_length + float(row['duration'])\n        \n        # Get total number of rides for each city\n        if city == 'Washington':\n            total_trips = total_trips_washington\n        elif city == 'Chicago':\n            total_trips = total_trips_chicago\n        else:\n            total_trips = total_trips_nyc\n        \n        # return average trip length in minutes(rounded)\n        return(int(total_trip_length/total_trips))\n    \n# Get Average Trip Length for each City\navg_trip_length_washington = avg_trip_length(data_file_Washington, 'Washington')\navg_trip_length_chicago = avg_trip_length(data_file_Chicago, 'Chicago')\navg_trip_length_nyc = avg_trip_length(data_file_NYC, 'NYC')\n\n# Print Average Trip Length for each City\nprint(\"\\n*** Average Trip Length for each City ***\\n\")\nprint(\"Average Trip Length of Washington\" + \" = \" + str(avg_trip_length_washington) + \" Minutes\")\nprint(\"Average Trip Length of Chicago\" + \" = \" + str(avg_trip_length_chicago) + \" Minutes\")\nprint(\"Average Trip Length of NYC\" + \" = \" + str(avg_trip_length_nyc) + \" Minutes\")",
      "execution_count": null,
      "outputs": []
    },
    {
      "metadata": {
        "scrolled": false,
        "_cell_guid": "4e530349-909d-4d19-89bf-f2d42b647366",
        "_uuid": "db636eb9ee736c4612fd0b3cc5eea75ec2d7c6e7",
        "trusted": false,
        "collapsed": true
      },
      "cell_type": "code",
      "source": "def longer_trip_percent(filename, city):\n    '''\n        Get percent of trips that are longer than 30 minutes\n    '''\n    TRIP_DURATION = 30.0\n    with open(filename, 'r') as f_in:\n        # set up csv reader object\n        reader = csv.DictReader(f_in)\n        \n        # Initialize the variables\n        longer_trip_count = 0\n        \n        # Get the no of trips longer than 30 Minutes\n        for row in reader:\n            if float(row['duration']) > TRIP_DURATION:\n                longer_trip_count += 1\n        \n        # Get total number of rides for each city\n        if city == 'Washington':\n            total_trips = total_trips_washington\n        elif city == 'Chicago':\n            total_trips = total_trips_chicago\n        else:\n            total_trips = total_trips_nyc\n            \n        # return % of trips that are longer than 30 minutes(rounded to 2 decimal places)\n        return((round(longer_trip_count/total_trips, 4) * 100))\n\n# Get percentage of trips that are longer than 30 minutes for each city\nlong_trip_per_washington = longer_trip_percent(data_file_Washington, 'Washington')\nlong_trip_per_chicago = longer_trip_percent(data_file_Chicago, 'Chicago')\nlong_trip_per_nyc = longer_trip_percent(data_file_NYC, 'NYC')\n\n# Print percentage of trips that are longer than 30 minutes for each city\nprint(\"\\n*** Percentage of trips that are longer than 30 minutes ***\\n\")\nprint(\"Percentage Trips Longer Than 30 Minutes in Washington\" + \" = \" + str(long_trip_per_washington) + \"%\")\nprint(\"Percentage Trips Longer Than 30 Minutes in Chicago\" + \" = \" + str(long_trip_per_chicago) + \"%\")\nprint(\"Percentage Trips Longer Than 30 Minutes in NYC\" + \" = \" + str(long_trip_per_nyc) + \"%\")",
      "execution_count": null,
      "outputs": []
    },
    {
      "metadata": {
        "_uuid": "7314c1da2de691f093d7e8468ad2a34c04c71bb7",
        "_cell_guid": "c3c852c8-58e5-4ad4-87ab-7aacb6140cb1"
      },
      "cell_type": "markdown",
      "source": "Now, we will dig deeper into the question of trip duration based on ridership. We will try to see which type of user takes longer rides on average: Subscribers or Customers?\n\n1. For Washington => Subscribers Avg Duration = 12.53; Customers Avg Duration = 41.68\n2. For Chicago => Subscribers Avg Duration = 12.07; Customers Avg Duration = 30.98\n3. For NYC => Subscribers Avg Duration = 13.68; Customers Avg Duration = 32.78\n\n\n1. In Washington Customers take longer rides than Subscribers\n2. In Chicago Customers take longer rides than Subscribers\n3. In NYC Customers take longer rides than Subscribers"
    },
    {
      "metadata": {
        "scrolled": false,
        "_cell_guid": "b91aec3c-43a9-4b48-8b5a-686eca279a99",
        "_uuid": "df8778db4bd34151187f6fd850fe7cbb5a51cf4c",
        "trusted": false,
        "collapsed": true
      },
      "cell_type": "code",
      "source": "def rides_user_type(filename, city):\n    '''\n        Get the rides based on user type - Subscribers and Customers\n    '''\n    with open(filename, 'r') as f_in:\n        # set up csv reader object\n        reader = csv.DictReader(f_in)\n        \n        # initialize the variables\n        trip_length_subscribers = 0\n        trip_count_subscribers = 0\n        \n        trip_length_customers = 0\n        trip_count_customers = 0\n        \n        # Get the trip length and trip counts for Subscribers and\n        # Customers in each city.\n        for row in reader:\n            if city == 'Washington':\n                if row['user_type'] == 'Subscriber':\n                    trip_length_subscribers += float(row['duration'])\n                    trip_count_subscribers += 1\n                else:\n                    trip_length_customers += float(row['duration'])\n                    trip_count_customers += 1\n            elif city == 'Chicago':\n                if row['user_type'] == 'Subscriber':\n                    trip_length_subscribers += float(row['duration'])\n                    trip_count_subscribers += 1\n                else:\n                    trip_length_customers += float(row['duration'])\n                    trip_count_customers += 1\n            else:\n                if row['user_type'] == 'Subscriber':\n                    trip_length_subscribers += float(row['duration'])\n                    trip_count_subscribers += 1\n                else:\n                    trip_length_customers += float(row['duration'])\n                    trip_count_customers += 1\n              \n        # return average trip duration for Subscribers and Customers\n        avg_trip_len_subscriber = round((trip_length_subscribers/trip_count_subscribers), 2)\n        avg_trip_len_customer = round((trip_length_customers/trip_count_customers), 2)\n        return(avg_trip_len_subscriber, avg_trip_len_customer)\n\n# Get the average trip length for Subscribers and Customers in each city.     \navg_trip_len_subs_washington, avg_trip_len_cust_washington = rides_user_type(data_file_Washington, 'Washington')\navg_trip_len_subs_chicago, avg_trip_len_cust_chicago = rides_user_type(data_file_Chicago, 'Chicago')\navg_trip_len_subs_nyc, avg_trip_len_cust_nyc = rides_user_type(data_file_NYC, 'NYC')\n\n# Print the average trip length for Subscribers and Customers in each city.\nprint(\"\\n*** Average trip length for Subscribers or Customers? ***\\n\")\nprint(\"For Washington\" + \" => \" + \"Subscribers Avg Duration = \" + str(avg_trip_len_subs_washington) + \"; Customers Avg Duration = \" + str (avg_trip_len_cust_washington))\nprint(\"For Chicago\" + \" => \" + \"Subscribers Avg Duration = \" + str(avg_trip_len_subs_chicago) + \"; Customers Avg Duration = \" + str (avg_trip_len_cust_chicago))\nprint(\"For NYC\" + \" => \" + \"Subscribers Avg Duration = \" + str(avg_trip_len_subs_nyc) + \"; Customers Avg Duration = \" + str (avg_trip_len_cust_nyc))\n\nprint(\"\\n*** Who take longer rides - Subscribers or Customers? ***\\n\")\n\n# Print the user type - Subscribers or Customers who take longer rides each city.\nif (avg_trip_len_subs_washington > avg_trip_len_cust_washington):\n    print (\"In Washington Subscribers take longer rides than Customers\")\nelse:\n    print (\"In Washington Customers take longer rides than Subscribers\")\n    \nif (avg_trip_len_subs_chicago > avg_trip_len_cust_chicago):\n    print (\"In Chicago Subscribers take longer rides than Customers\")\nelse:\n    print (\"In Chicago Customers take longer rides than Subscribers\")\n    \nif (avg_trip_len_subs_nyc > avg_trip_len_cust_nyc):\n    print (\"In NYC Subscribers take longer rides than Customers\")\nelse:\n    print (\"In NYC Customers take longer rides than Subscribers\")",
      "execution_count": null,
      "outputs": []
    },
    {
      "metadata": {
        "_uuid": "534d4f6c32f0b1d6ec7f14bc68705a68d31c1fa7",
        "_cell_guid": "7b4697a5-c596-4b4c-b266-d22105976916"
      },
      "cell_type": "markdown",
      "source": "<a id='visualizations'></a>\n### Visualizations\n\nThe last set of values that we computed should have pulled up an interesting result. While the mean trip time for Subscribers is well under 30 minutes, the mean trip time for Customers is actually _above_ 30 minutes! It will be interesting for us to look at how the trip times are distributed. In order to do this, a new library will be introduced here, `matplotlib`."
    },
    {
      "metadata": {
        "collapsed": true,
        "_cell_guid": "b9c24bc9-3648-460f-ba7e-ad9c4574e440",
        "_uuid": "14562912653084eeec4773daeb2588d38cb57843",
        "scrolled": false,
        "trusted": false
      },
      "cell_type": "code",
      "source": "# load library\nimport matplotlib.pyplot as plt\n\n# this is a 'magic word' that allows for plots to be displayed\n# inline with the notebook. If you want to know more, see:\n# http://ipython.readthedocs.io/en/stable/interactive/magics.html\n%matplotlib inline",
      "execution_count": null,
      "outputs": []
    },
    {
      "metadata": {
        "scrolled": false,
        "_cell_guid": "f500b68e-9283-4211-b924-2238ecbe4856",
        "_uuid": "58c5d5de8c3f9b883be6d38830d344ac58fdfbdd",
        "trusted": false,
        "collapsed": true
      },
      "cell_type": "code",
      "source": "## Collect all of the trip times and use pyplot to generate a histogram of trip times.\ndef trip_times(filename, city):\n    '''\n        Get the trip times for each of the cities.\n    '''\n    with open(filename, 'r') as f_in:\n        # set up csv reader object\n        reader = csv.DictReader(f_in)\n        \n        # initialize the variables\n        trip_times_washington = []\n        trip_times_chicago = []\n        trip_times_nyc = []\n        \n        # Create the trip time list for each city\n        for row in reader:\n            if city == 'Washington':\n                trip_times_washington.append(float(row['duration']))\n            elif city == 'Chicago':\n                trip_times_chicago.append(float(row['duration']))\n            else:\n                trip_times_nyc.append(float(row['duration']))\n              \n        # return the trip time list for each city\n        if city == 'Washington':\n            return trip_times_washington\n        elif city == 'Chicago':\n            return trip_times_chicago\n        else:\n            return trip_times_nyc\n\n# Get the trip time list for each city\ntrip_times_washington = trip_times(data_file_Washington, 'Washington')\ntrip_times_chicago = trip_times(data_file_Chicago, 'Chicago')\ntrip_times_nyc = trip_times(data_file_NYC, 'NYC')\n\n# Plot the histogram of trip durations for each city\nplt.hist(trip_times_washington)\nplt.title('Distribution of Trip Durations for Washington')\nplt.xlabel('Duration (m)')\nplt.show()\n\nplt.hist(trip_times_chicago)\nplt.title('Distribution of Trip Durations for Chicago')\nplt.xlabel('Duration (m)')\nplt.show()\n\nplt.hist(trip_times_nyc)\nplt.title('Distribution of Trip Durations for NYC')\nplt.xlabel('Duration (m)')\nplt.show()",
      "execution_count": null,
      "outputs": []
    },
    {
      "metadata": {
        "_uuid": "784b8bf44a9349fd4436b7d004f12e097ce584e5",
        "_cell_guid": "04402601-d64f-465c-83ef-1923641d72c8"
      },
      "cell_type": "markdown",
      "source": "The above code shows histograms that's completely unexpected. The plot consists of one extremely tall bar on the left and a whole lot of empty space in the center and right. Take a look at the duration values on the x-axis. This suggests that there are some highly infrequent outliers in the data. Instead of reprocessing the data, we will use additional parameters with the `.hist()` function to limit the range of data that is plotted. Documentation for the function can be found [[here]](https://matplotlib.org/devdocs/api/_as_gen/matplotlib.pyplot.hist.html#matplotlib.pyplot.hist).\n\nWe will now use the parameters of the `.hist()` function to plot the distribution of trip times for the Subscribers. We will also do the same thing for only the Customers. We will also Add limits to the plots so that only trips of duration less than 75 minutes are plotted. As a bonus, we will set the plots up so that bars are in five-minute wide intervals. We will try to answer few questions like - For each group, where is the peak of each distribution? How would you describe the shape of each distribution?\n\n\n1. For each group, where is the peak of each distribution? - The peak is approximately at the Average Trip Duration (Mean).\n2. How would you describe the shape of each distribution? - Most of the distributons are skewed to the right."
    },
    {
      "metadata": {
        "collapsed": true,
        "_cell_guid": "3e0f7d6b-6a8b-47be-9f56-2a922a912112",
        "_uuid": "d4c7a75bd1b35067b7c63ed96d85a522dc30436c",
        "scrolled": false,
        "trusted": false
      },
      "cell_type": "code",
      "source": "def trip_times_subs_cust(filename, city):\n    '''\n        Get the trip times for each of the cities.\n    '''\n    with open(filename, 'r') as f_in:\n        # set up csv reader object\n        reader = csv.DictReader(f_in)\n        \n        # initialize the variables\n        trip_times_subs_washington = []\n        trip_times_cust_washington = []\n        trip_times_subs_chicago = []\n        trip_times_cust_chicago = []\n        trip_times_subs_nyc = []\n        trip_times_cust_nyc = []\n        \n        # Get the trip times for Subscribers and Customers for each city\n        for row in reader:\n            if city == 'Washington':\n                if row['user_type'] == 'Subscriber':\n                    trip_times_subs_washington.append(float(row['duration']))\n                else:\n                    trip_times_cust_washington.append(float(row['duration']))\n            elif city == 'Chicago':\n                if row['user_type'] == 'Subscriber':\n                    trip_times_subs_chicago.append(float(row['duration']))\n                else:\n                    trip_times_cust_chicago.append(float(row['duration']))\n            else:\n                if row['user_type'] == 'Subscriber':\n                    trip_times_subs_nyc.append(float(row['duration']))\n                else:\n                    trip_times_cust_nyc.append(float(row['duration']))\n              \n        # return trip duration of Subscribers and Customers for each city\n        if city == 'Washington':\n            return (trip_times_subs_washington, trip_times_cust_washington)\n        elif city == 'Chicago':\n            return (trip_times_subs_chicago, trip_times_cust_chicago)\n        else:\n            return (trip_times_subs_nyc, trip_times_cust_nyc)\n\n# Get trip duration of Subscribers and Customers for each city\ntrip_times_subs_washington, trip_times_cust_washington = trip_times_subs_cust(data_file_Washington, 'Washington')\ntrip_times_subs_chicago, trip_times_cust_chicago = trip_times_subs_cust(data_file_Chicago, 'Chicago')\ntrip_times_subs_nyc, trip_times_cust_nyc = trip_times_subs_cust(data_file_NYC, 'NYC')",
      "execution_count": null,
      "outputs": []
    },
    {
      "metadata": {
        "scrolled": false,
        "_cell_guid": "7f80a532-6d6b-4867-a158-f96fdbe4c166",
        "_uuid": "6f0f858fbb27a4ce4ed5a0362049f66f74f21851",
        "trusted": false,
        "collapsed": true
      },
      "cell_type": "code",
      "source": "# Plot the histogram of trip durations for Washington users\nf, (plt1, plt2) = plt.subplots(2, sharey=True)\nplt1.hist(trip_times_subs_washington, range = (0, 75), bins = 16)\nplt1.set_title('Distribution of Trip Durations for Washington Subscribers')\nplt1.set_xlabel('Time in Minutes')\nplt1.set_ylabel(\"Trip Duration in Minutes\")\n\nplt2.hist(trip_times_cust_washington, range = (0, 75), bins = 16)\nplt2.set_title('Distribution of Trip Durations for Washington Customers')\nplt2.set_xlabel('Time in Minutes')\nplt2.set_ylabel(\"Trip Duration in Minutes\")\n\nf.subplots_adjust(hspace=0.25)\nf.set_figheight(10)\nf.set_figwidth(15)\nplt.show()",
      "execution_count": null,
      "outputs": []
    },
    {
      "metadata": {
        "scrolled": false,
        "_cell_guid": "6e43b235-7b31-44bc-bd80-308f8d3d01ed",
        "_uuid": "dfde03286be4505d53458eb38f8d5c13480a7ffc",
        "trusted": false,
        "collapsed": true
      },
      "cell_type": "code",
      "source": "# Plot the histogram of trip durations for Chicago users\nf, (plt1, plt2) = plt.subplots(2, sharey=True)\nplt1.hist(trip_times_subs_chicago, range = (0, 75), bins = 16)\nplt1.set_title('Distribution of Trip Durations for Chicago Subscribers')\nplt1.set_xlabel('Time in Minutes')\nplt1.set_ylabel(\"Trip Duration in Minutes\")\n\nplt2.hist(trip_times_cust_chicago, range = (0, 75), bins = 16)\nplt2.set_title('Distribution of Trip Durations for Chicago Customers')\nplt2.set_xlabel('Time in Minutes')\nplt2.set_ylabel(\"Trip Duration in Minutes\")\n\nf.subplots_adjust(hspace=0.25)\nf.set_figheight(10)\nf.set_figwidth(15)\nplt.show()",
      "execution_count": null,
      "outputs": []
    },
    {
      "metadata": {
        "scrolled": false,
        "_cell_guid": "6ff48d27-4c16-413a-b34d-79b80c6debbf",
        "_uuid": "9faccb2c12616b9fd428c83130de74246bef3271",
        "trusted": false,
        "collapsed": true
      },
      "cell_type": "code",
      "source": "# Plot the histogram of trip durations for NYC users\nf, (plt1, plt2) = plt.subplots(2, sharey=True)\nplt1.hist(trip_times_subs_nyc, range = (0, 75), bins = 16)\nplt1.set_title('Distribution of Trip Durations for NYC Subscribers')\nplt1.set_xlabel('Time in Minutes')\nplt1.set_ylabel(\"Trip Duration in Minutes\")\n\nplt2.hist(trip_times_cust_nyc, range = (0, 75), bins = 16)\nplt2.set_title('Distribution of Trip Durations for NYC Customers')\nplt2.set_xlabel('Time in Minutes')\nplt2.set_ylabel(\"Trip Duration in Minutes\")\n\nf.subplots_adjust(hspace=0.25)\nf.set_figheight(10)\nf.set_figwidth(15)\nplt.show()",
      "execution_count": null,
      "outputs": []
    },
    {
      "metadata": {
        "collapsed": true,
        "_cell_guid": "45f1a9d4-3aa4-4871-a0af-26d1ff05e8db",
        "_uuid": "672f421a4e6167f522da00b370842e711e2566af"
      },
      "cell_type": "markdown",
      "source": "<a id='eda_continued'></a>\n## More Analysis\n\nWe will try to analyze few more areas here:\n\n1. How does ridership differ by month for Washington? - Ridership tends to increase every month until the mid year and then it starts to decrease\n2. Which month has the highest ridership for Washington? - July\n3. Does the ratio of Subscriber trips to Customer trips change depending on the month or season? - Yes. It's highest in the starting months.\n4. Is the pattern of ridership different on the weekends versus weekdays? - Yes. On weekdays the average trip duration is high.\n5. On what days are Subscribers most likely to use the system? What about Customers? - Subscribers are using the system mostly on weekdays and Customers are using the system mostly on weekends."
    },
    {
      "metadata": {
        "_uuid": "3ae0c0d28e28489de9d9f8cdece7283728eb9d95",
        "_cell_guid": "b96cd796-dbd9-48a1-ab99-ab825454aa45",
        "trusted": false,
        "collapsed": true
      },
      "cell_type": "code",
      "source": "# How does ridership differ by month or season? Which month / season has the highest ridership?\ndef duration_by_month(filename):\n    with open(filename, 'r') as f_in:\n        # set up csv reader object\n        reader = csv.DictReader(f_in)\n        \n        # Initialize the dict to hold trip duration by month\n        dur_month = {1:0, 2:0, 3:0, 4: 0, 5:0, 6:0, 7:0, 8:0, 9:0, 10:0, 11:0, 12:0}\n        \n        # Get the trip duration by month\n        for row in reader:\n            dur_month[int(row['month'])] += float(row['duration'])\n                \n        return (dur_month)\n\n\ndur_by_month_Washington = duration_by_month(data_file_Washington)\nprint(\"Ridership by Month for Washington => \"+ str(dur_by_month_Washington))\n\nno_of_months = range(12)\nplt.figure(figsize=(15,7))\nplt.bar(no_of_months, dur_by_month_Washington.values(), color='b', align='center')\nplt.xticks(no_of_months, dur_by_month_Washington.keys())\nplt.xlabel(\"Month of the Year\")\nplt.ylabel(\"Trip Duration in Minutes\")\nplt.title(\"Ridership by Month for Washington\", fontsize=15)\nplt.show()",
      "execution_count": null,
      "outputs": []
    },
    {
      "metadata": {
        "scrolled": false,
        "_cell_guid": "cf8926c1-c203-4ca5-b067-cf1ef0b79a0b",
        "_uuid": "9b4d479e1b151153888a7d1721824f3d18ba3362",
        "trusted": false,
        "collapsed": true
      },
      "cell_type": "code",
      "source": "# Does the ratio of Subscriber trips to Customer trips change depending on the month or season?\ndef trips_by_month(filename, user_type):\n    with open(filename, 'r') as f_in:\n        # set up csv reader object\n        reader = csv.DictReader(f_in)\n        \n        # Initialize the dict to hold trips by month\n        trips_month = {1:0, 2:0, 3:0, 4: 0, 5:0, 6:0, 7:0, 8:0, 9:0, 10:0, 11:0, 12:0}\n        \n        # Get the trips for each month for different users\n        for row in reader:\n            if user_type == 'Subscriber' and row['user_type'] == 'Subscriber':\n                trips_month[int(row['month'])] += 1\n            elif user_type == 'Customer' and row['user_type'] == 'Customer':\n                trips_month[int(row['month'])] += 1\n                \n        return (trips_month)\n\n\ntrips_month_subs = trips_by_month(data_file_Washington, 'Subscriber')\nprint(\"Subscriber Trips by Month => \" + str(trips_month_subs))\n\ntrips_month_cust = trips_by_month(data_file_Washington, 'Customer')\nprint(\"Customer Trips by Month => \" + str(trips_month_cust))\n\nno_of_months = range(12)\nplt.figure(figsize=(15,7))\nplt.bar(no_of_months, trips_month_subs.values(), color='b', align='center')\nplt.bar(no_of_months, trips_month_cust.values(), color='c', align='center')\nplt.legend(('Subscriber Trips','Customer Trips'))\nplt.xticks(no_of_months, trips_month_subs.keys())\nplt.xlabel(\"Month of the Year\")\nplt.ylabel(\"No of Trips\")\nplt.title(\"Ratio of Subscriber Trips to Customer Trips\", fontsize=15)\nplt.show()\n\n# Get the Ratio of Subscriber Trips to Customer Trips\nratio_of_trips = {mon: round(trips_month_subs[mon]/trips_month_cust[mon],2) for mon in trips_month_subs}\nprint(\"Ratio of Subscriber to Customer Trips => \" + str(ratio_of_trips))\n\nno_of_months = range(12)\nplt.figure(figsize=(15,7))\nplt.bar(no_of_months, ratio_of_trips.values(), color='g', align='center')\nplt.xticks(no_of_months, ratio_of_trips.keys())\nplt.xlabel('Month of the Year')\nplt.ylabel(\"Trip Ratio's\")\nplt.title(\"Ratio of Subscriber Trips to Customer Trips\", fontsize=15)\nplt.show()",
      "execution_count": null,
      "outputs": []
    },
    {
      "metadata": {
        "scrolled": false,
        "_cell_guid": "de4a80b9-089a-413c-b079-a0fd9cdbc16f",
        "_uuid": "cc16258f3807b30cf9755a06a988fa27f685ebac",
        "trusted": false,
        "collapsed": true
      },
      "cell_type": "code",
      "source": "# Is the pattern of ridership different on the weekends versus weekdays?\ndef trips_by_day_of_week(filename):\n    with open(filename, 'r') as f_in:\n        # set up csv reader object\n        reader = csv.DictReader(f_in)\n        \n        # initialize the variables\n        weekend_duration = []\n        weekend_no_of_rides = 0\n        \n        weekday_duration = []\n        weekday_no_of_rides = 0\n        \n        # Get the trip count and duration for weekends and weekdays.\n        for row in reader:\n            if row['day_of_week'] == 'Saturday' or row['day_of_week'] == 'Sunday':\n                weekend_duration.append(float(row['duration']))\n                weekend_no_of_rides += 1\n            else:\n                weekday_duration.append(float(row['duration']))\n                weekday_no_of_rides += 1\n            \n        return (weekend_duration, weekend_no_of_rides, weekday_duration, weekday_no_of_rides)\n\nweekend_duration, weekend_no_of_rides, weekday_duration, weekday_no_of_rides = trips_by_day_of_week(data_file_Washington)\n\n# Plot the histograms\nf, (plt1, plt2) = plt.subplots(2, sharey=True)\nplt1.hist(weekend_duration, range = (0, 75), bins = 16)\nplt1.set_title('Pattern of Ridership for Washington Subscribers over Weekends')\nplt1.set_xlabel('Trip Duration in Minutes')\nplt1.set_ylabel(\"No of Trips\")\n\nplt2.hist(weekday_duration, range = (0, 75), bins = 16)\nplt2.set_title('Pattern of Ridership for Washington Customers over Weekdays')\nplt2.set_xlabel('Trip Duration in Minutes')\nplt2.set_ylabel(\"No of Trips\")\n\nf.subplots_adjust(hspace=0.25)\nf.set_figheight(10)\nf.set_figwidth(15)\nplt.show()",
      "execution_count": null,
      "outputs": []
    },
    {
      "metadata": {
        "scrolled": false,
        "_cell_guid": "82e71419-4754-4229-8c15-9fada2c6593e",
        "_uuid": "8bf550b2a6f9de8a4fe214213e36a4035277bb08",
        "trusted": false,
        "collapsed": true
      },
      "cell_type": "code",
      "source": "# On what days are Subscribers most likely to use the system? What about Customers?\n# Does the average duration of rides change depending on the day of the week?\ndef trips_by_day(filename, user_type):\n    with open(filename, 'r') as f_in:\n        # set up csv reader object\n        reader = csv.DictReader(f_in)\n        \n        # initialize the variables\n        days_of_week = {'Monday':1, 'Tuesday':2, 'Wednesday':3, 'Thursday':4, 'Friday':5, 'Saturday':6, 'Sunday':7}\n        trips_day_of_week = {1:0, 2:0, 3:0, 4:0, 5:0, 6:0, 7:0}\n        \n        # Get the trip count for Subscribers and Customers for each day of the week\n        for row in reader:\n            if user_type == 'Subscriber' and row['user_type'] == 'Subscriber':\n                trips_day_of_week[days_of_week[row['day_of_week']]] += 1\n            elif user_type == 'Customer' and row['user_type'] == 'Customer':\n                trips_day_of_week[days_of_week[row['day_of_week']]] += 1\n                \n        return (trips_day_of_week)\n\nday_of_weeks_list = ['Mon', 'Tue', 'Wed', 'Thu', 'Fri', 'Sat', 'Sun']\n\ntrips_day_of_week_subs = trips_by_day(data_file_Washington, 'Subscriber')\nprint(\"Subscriber Trips by Day of Week => \" + str(trips_day_of_week_subs))\n\ntrips_day_of_week_cust = trips_by_day(data_file_Washington, 'Customer')\nprint(\"Customer Trips by Day of Week => \" + str(trips_day_of_week_cust))\n\n# Plot the bar chart for Washington Subscribers\nf, (plt1, plt2) = plt.subplots(2, sharey=True)\nplt1.bar(list(trips_day_of_week_subs.keys()), trips_day_of_week_subs.values())\nplt1.set_xticks(list(trips_day_of_week_subs.keys()))\nplt1.set_xticklabels(['Mon', 'Tue', 'Wed', 'Thu', 'Fri', 'Sat', 'Sun'])\nplt1.set_xlabel(\"Day of the Week\")\nplt1.set_ylabel('No of Trips')\nplt1.set_title('Distribution of Trips for Washington Subscribers by Day')\n\n# Plot the bar chart for Washington Customers\nplt2.bar(list(trips_day_of_week_cust.keys()), trips_day_of_week_cust.values())\nplt2.set_xticks(list(trips_day_of_week_cust.keys()))\nplt2.set_xticklabels(['Mon', 'Tue', 'Wed', 'Thu', 'Fri', 'Sat', 'Sun'])\nplt2.set_xlabel(\"Day of the Week\")\nplt2.set_ylabel('No of Trips')\nplt2.set_title('Distribution of Trips for Washington Customers by Day')\n\nf.subplots_adjust(hspace=0.25)\nf.set_figheight(10)\nf.set_figwidth(15)\nplt.show()",
      "execution_count": null,
      "outputs": []
    },
    {
      "metadata": {
        "_uuid": "6b97a52d3c5ecc1258a13510b971a519dec6dac9",
        "_cell_guid": "ecbeb3c9-d977-4999-b559-a6859f243e5e"
      },
      "cell_type": "markdown",
      "source": "<a id='conclusions'></a>\n## Conclusions\n\nI hope this notebook is useful and feel free to send in your suggestions and comments. A big thanks to Udacity for the data and other stuff."
    }
  ],
  "metadata": {
    "language_info": {
      "pygments_lexer": "ipython3",
      "codemirror_mode": {
        "name": "ipython",
        "version": 3
      },
      "file_extension": ".py",
      "mimetype": "text/x-python",
      "name": "python",
      "version": "3.6.4",
      "nbconvert_exporter": "python"
    },
    "kernelspec": {
      "display_name": "Python 3",
      "language": "python",
      "name": "python3"
    },
    "anaconda-cloud": {}
  },
  "nbformat": 4,
  "nbformat_minor": 1
}